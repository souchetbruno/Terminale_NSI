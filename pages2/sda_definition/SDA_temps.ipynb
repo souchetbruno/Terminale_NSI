{
 "cells": [
  {
   "cell_type": "markdown",
   "metadata": {},
   "source": [
    "# Introduction aux structures de données abstraites"
   ]
  },
  {
   "cell_type": "markdown",
   "metadata": {},
   "source": [
    "\n",
    "\n",
    "### Définitions :\n",
    "Un **type abstrait de données** est un ensemble de données - dont on ne précise pas la représentation concrète - doté d'un ensemble d'opérations agissant sur ses éléments. On fait donc à la fois abstraction de la manière dont les données sont représentées et de la manière dont les opérations sont programmées.\n",
    "\n",
    "Le concept de type abstrait n'est pas lié à un langage de programmation particulier. Il peut être mis en oeuvre via des mécanismes de programmation, dont en particulier la programmation objet , la programmation modulaire ou la programmation avec des fonctions.\n",
    "\n",
    "Parmi les opérations sur un type de données abstrait, on distingue usuellement :\n",
    "- les **constructeurs**, qui permettent de créer des données,\n",
    "- les **sélecteurs**, qui permettent d'accéder à tout ou partie de l'information contenue dans une donnée,\n",
    "- les **opérateurs**, qui permettent d'opérer entre données du type (opération internes) ou avec d'autres types de données (opérations externes),\n",
    "- les **prédicats**, qui permettent de tester une propriété.\n",
    "\n",
    "**Interface :**   \n",
    "\n",
    "L'ensemble des fonctionnalités disponibles pour un type de données en constitue l'**interface** - la partie visible pour qui veut utiliser ce type de données.  \n",
    "C'est en sorte **le cahier des charges** que doit respecter le type de données \n",
    "\n",
    "**Implémentation :**  \n",
    "\n",
    "L'**implémentation** consiste à *concrétiser* - réaliser effectivement - un type de données en définissant la représentation des données avec des types de données existant, et en écrivant les programmes des fonctions."
   ]
  },
  {
   "cell_type": "markdown",
   "metadata": {},
   "source": [
    "### Un exemple : le type Rationnel\n",
    "\n",
    "On veut définir un type abstrait `Rationnel` (les fractions) , en définisssant l'ensemble  de ses valeurs possibles par référence à l'ensemble Q des rationnels en mathématiques \n",
    "###  l'interface \n",
    "avec les fonctions suivantes :\n",
    "- Un constructeur : `faitrationnel : Entier x Entier -> Rationnel`\n",
    "- Des sélecteurs : \n",
    "    - `numérateur : Rationnel -> Entier`\n",
    "    - `dénominateur : Rationnel -> Entier`\n",
    "    - `représenter: Rationnel -> Chaîne de caractères'\n",
    "- Des opérateurs : `+ : Rationnel x Rationnel -> Rationnel`, ...\n",
    "- Des prédicats : `egal : Rationnel x Rationnel -> Booléen`, ...\n",
    "\n",
    "Le programmeur utilisant ce type de données doit pouvoir écrire :\n",
    "```egal(faitrationnel(1,2)+ faitrationnel(1,6), faitrationnel(2,3))```\n",
    "et obtenir un résultat correct, sans se soucier de la manière dont les différents traitements sont programmés. Il peut *faire abstraction* de la représentation et du détail des calculs, et ne se soucie donc pas du moment où peut être effectuée ou non la simplification d'un rationnel."
   ]
  },
  {
   "cell_type": "markdown",
   "metadata": {},
   "source": [
    "###  une implémentation possible avec un tuple."
   ]
  },
  {
   "cell_type": "code",
   "execution_count": 4,
   "metadata": {},
   "outputs": [],
   "source": [
    "def faitrationnel(p,q):\n",
    "    return (p,q) # le tuple est composé du numérateur p et du dénominateur q\n",
    "def numérateur(r): # retourne le numérateur d'un rationnel\n",
    "    return(r[0])\n",
    "def dénominateur(r):\n",
    "    return(r[1])\n",
    "def representer(r): # permet d'afficher un rationnel sous la forme p/q\n",
    "    print(str(numérateur(r))+\"/\"+str(dénominateur(r)))\n",
    "def sommerationnel(r,s):\n",
    "    return faitrationnel(numérateur(r)*dénominateur(s)+numérateur(s)*dénominateur(r),dénominateur(r)*dénominateur(s))\n",
    "def egal(r,s):\n",
    "    return numérateur(r)*dénominateur(s)==numérateur(s)*dénominateur(r)\n",
    "    pass\n",
    "    \n",
    "        "
   ]
  },
  {
   "cell_type": "code",
   "execution_count": 5,
   "metadata": {},
   "outputs": [
    {
     "name": "stdout",
     "output_type": "stream",
     "text": [
      "4/5\n",
      "3/7\n",
      "43/35\n"
     ]
    }
   ],
   "source": [
    "R1=faitrationnel(4,5)\n",
    "representer(R1)\n",
    "R2=faitrationnel(3,7)\n",
    "representer(R2)\n",
    "representer(sommerationnel(R1,R2))"
   ]
  },
  {
   "cell_type": "markdown",
   "metadata": {},
   "source": [
    "<h3>  Exercice 1 </h3> Compléter l'implémentation précédente par la fonction égal"
   ]
  },
  {
   "cell_type": "code",
   "execution_count": 6,
   "metadata": {},
   "outputs": [],
   "source": [
    "# éxécuter alors le test suivant\n",
    "assert egal(sommerationnel(faitrationnel(1,2),faitrationnel(1,6)), faitrationnel(2,3))==True "
   ]
  },
  {
   "cell_type": "markdown",
   "metadata": {},
   "source": [
    "<h3> Exercice 2 </h3>\n",
    "a) Proposer la spécification d'un type abstrait `Temps`, permettant de construire des temps en heures, minutes, secondes, de faire des opérations (addition, soustraction), de comparer deux temps et d'afficher un temps sous un format usuel sous forme de chaîne de caractères (ex 2h 15 mn 24 s).\n",
    "\n"
   ]
  },
  {
   "cell_type": "markdown",
   "metadata": {},
   "source": [
    "\n",
    "    Un constructeur :\n",
    "         fait_temps : .........................\n",
    "         affiche_temps : .........................\n",
    "    Des sélecteurs :\n",
    "        heure : ......................\n",
    "        minute : ..........................\n",
    "        seconde: ..................................\n",
    "    Des opérateurs : \n",
    "        addition : ..................................\n",
    "    Des prédicats : \n",
    "        egal : ...........................................\n"
   ]
  },
  {
   "cell_type": "markdown",
   "metadata": {},
   "source": [
    "b) Proposer une implémentation de ce type Temps en utilisant les tuples avec des jeux de tests "
   ]
  },
  {
   "cell_type": "code",
   "execution_count": null,
   "metadata": {},
   "outputs": [],
   "source": [
    "# 1ere version\n",
    "def fait_temps(h:int,m:int,s:int):  #  attention m et s sont compris entre 0 et 59\n",
    "    pass \n",
    "\n",
    "def heure(t):\n",
    "    pass\n",
    "def minute(t):\n",
    "    pass\n",
    "def seconde(t):\n",
    "    pass\n",
    "\n",
    "def affiche_temps(t):\n",
    "    pass   \n",
    "\n",
    "\n",
    "def addition(u,v):\n",
    "    pass\n",
    "\n",
    "\n",
    "def egal(u,v):\n",
    "    pass\n",
    "\n",
    "\n",
    "    "
   ]
  },
  {
   "cell_type": "code",
   "execution_count": null,
   "metadata": {},
   "outputs": [],
   "source": [
    "T1=fait_temps(11,24,45)\n",
    "T2=fait_temps(12,35,28)\n",
    "T3=fait_temps(11,23,105)\n",
    "affiche_temps(addition(T1,T2))\n",
    "print(egal(T1,T2))\n",
    "print(egal(T1,T3))"
   ]
  },
  {
   "cell_type": "code",
   "execution_count": null,
   "metadata": {},
   "outputs": [],
   "source": []
  },
  {
   "cell_type": "markdown",
   "metadata": {},
   "source": [
    "<h3> ex bonus pour ceux qui ont le temps (ou l'envie !) :  </h3>\n",
    "Utiliser la programmation orientée objet pour implémenter le type temps\n"
   ]
  },
  {
   "cell_type": "code",
   "execution_count": null,
   "metadata": {},
   "outputs": [],
   "source": []
  }
 ],
 "metadata": {
  "kernelspec": {
   "display_name": "Python 3.9.13 64-bit (microsoft store)",
   "language": "python",
   "name": "python3"
  },
  "language_info": {
   "codemirror_mode": {
    "name": "ipython",
    "version": 3
   },
   "file_extension": ".py",
   "mimetype": "text/x-python",
   "name": "python",
   "nbconvert_exporter": "python",
   "pygments_lexer": "ipython3",
   "version": "3.9.13"
  },
  "vscode": {
   "interpreter": {
    "hash": "970a2a4939579a4c22872227820a264ec023ee5692739211cbaca24386397975"
   }
  }
 },
 "nbformat": 4,
 "nbformat_minor": 2
}
