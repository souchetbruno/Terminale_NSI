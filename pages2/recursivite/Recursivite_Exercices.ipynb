{
 "cells": [
  {
   "cell_type": "markdown",
   "metadata": {},
   "source": [
    "<center><h1> Exercices de bases sur la récursivité </h1></center>"
   ]
  },
  {
   "cell_type": "markdown",
   "metadata": {},
   "source": [
    "<h3> Un peu de maths </h3>"
   ]
  },
  {
   "cell_type": "markdown",
   "metadata": {},
   "source": [
    "<strong> Exercice 1 :</strong>  factorielle\n",
    "<p> Pour n un entier naturel, la fonction factorielle <strong>fact(n)</strong> est le produit de tous les entiers de 1 à n.</p>\n",
    "<em>Exemple : fact(3)=6 et fact(4) = 24 , par convention fact(0)=1</em>\n",
    "<p> En mathématiques, on note fact(n) = n! qui se définit par :  <br>\n",
    "  n! = 1 * 2 * 3 * ... * n  &nbsp;   et  &nbsp;   0! = 1.</p>\n",
    "\n",
    "<p> On a la propriété suivante :  fact(n) = n*fact(n-1) </p>\n",
    "<p> On veut donc écrire une version recursive de cette fonction </p>\n"
   ]
  },
  {
   "cell_type": "markdown",
   "metadata": {},
   "source": [
    "<p> Quel est le cas de base ? </p>"
   ]
  },
  {
   "cell_type": "raw",
   "metadata": {},
   "source": []
  },
  {
   "cell_type": "markdown",
   "metadata": {},
   "source": [
    "<p> Complèter alors la fonction </p>"
   ]
  },
  {
   "cell_type": "code",
   "execution_count": null,
   "metadata": {},
   "outputs": [],
   "source": [
    "def factorielle(n):\n",
    "    if ...........\n",
    "        return .......\n",
    "    else :\n",
    "        return .......\n",
    "    "
   ]
  },
  {
   "cell_type": "markdown",
   "metadata": {},
   "source": [
    "<strong> Exercice 2 :</strong> Somme de deux entiers <br>\n",
    "On autorise seulement deux opérations sur les entiers : ajouter 1  ou retrancher 1 <br>\n",
    "La fonction somme définie ci-dessous renvoie la somme de deux entiers positifs avec ces deux opérations. <br>\n",
    "\n"
   ]
  },
  {
   "cell_type": "code",
   "execution_count": null,
   "metadata": {},
   "outputs": [],
   "source": [
    "def somme(a, b):\n",
    "    while b > 0:\n",
    "        a = a + 1\n",
    "        b = b - 1\n",
    "    return a"
   ]
  },
  {
   "cell_type": "markdown",
   "metadata": {},
   "source": [
    "Écrire une version récursive de cette fonction somme_rec. "
   ]
  },
  {
   "cell_type": "markdown",
   "metadata": {},
   "source": [
    "<p> Quel est le cas de base ? </p>"
   ]
  },
  {
   "cell_type": "raw",
   "metadata": {},
   "source": []
  },
  {
   "cell_type": "code",
   "execution_count": null,
   "metadata": {},
   "outputs": [],
   "source": [
    "def somme_rec(a,b):\n",
    "    pass"
   ]
  },
  {
   "cell_type": "markdown",
   "metadata": {},
   "source": [
    "<strong> Exercice 3 :</strong> <br>\n",
    "Ecrire une fonction récursive nombre_de_chiffres(n) qui prend en argument un entier naturel et qui \n",
    "    renvoie le nombre de chiffres que contient n. <br> par exemple :  nombre_de_chiffres(12547) renverra 5 \n",
    "    \n",
    "  "
   ]
  },
  {
   "cell_type": "markdown",
   "metadata": {},
   "source": [
    "indice : on est en base 10"
   ]
  },
  {
   "cell_type": "code",
   "execution_count": null,
   "metadata": {},
   "outputs": [],
   "source": [
    "def nombre_de_chiffres(n):\n",
    "    pass\n",
    "\n",
    "assert nombre_de_chiffres(12547)==5\n",
    "assert nombre_de_chiffres(8)==1\n",
    "assert nombre_de_chiffres(0)==1"
   ]
  },
  {
   "cell_type": "markdown",
   "metadata": {},
   "source": [
    "<strong>Exercice 4 : </strong> <br> Une association a remarqué que d'une année sur l'autre :\n",
    "<ul> <li> elle perd 5% de ses adhérents; </li>\n",
    "    <li> elle gagne 200 adhérents </li>\n",
    "</ul>\n",
    "On admet que le nombre d'adhérents était égal à 2000 au 1er janvier 2010. <br> On souhaite écrire le code d'une fonction nombre, définie par récursivité, qui reçoit en entrée un nombre n entier positif d'années depuis 2010 et qui renvoie le nombre théorique d'adhérents après ces n années.\n",
    "                                "
   ]
  },
  {
   "cell_type": "code",
   "execution_count": null,
   "metadata": {},
   "outputs": [],
   "source": [
    "def nombre_adherents(n):\n",
    "    pass"
   ]
  },
  {
   "cell_type": "markdown",
   "metadata": {},
   "source": [
    "<strong>Exercice 5 :</strong>  Algorithme d’Euclide - PGCD\n",
    "\n",
    "<p> L’algorithme d’Euclide permet de calculer le pgcd de deux nombres entiers, c’est-à-dire le plus grand entier positif divisant ces deux nombres, par des divisions successives.</p>\n",
    "\n",
    "<p>Voici le déroulement de cet algorithme pour le calcul du pgcd de a=119 et b=544 <br>\n",
    "q est le quotient entier de a par b et r son reste </p>\n",
    "\n",
    "\n",
    "| &nbsp; a\t&nbsp;| &nbsp;\tb &nbsp;  | &nbsp;\tq &nbsp; | &nbsp;  r &nbsp;<br>\n",
    "119\t=\t544\t*\t0\t+\t119 <br>\n",
    "544\t=\t119\t*\t4\t+\t68 <br>\n",
    "119\t=\t68\t*\t1\t+\t51 <br>\n",
    "68\t=\t51\t*\t1\t+\t17 <br>\n",
    "51\t=\t17\t*\t3\t+\t0 <br>\n",
    "<p>Le pgcd de 119 et 544 est le dernier reste non nul,\n",
    "c’est-à-dire 17.<br> \n",
    "<h5> principe </h5>\n",
    "<ul> <li> On effectue la division euclidienne de a par b et on note r le reste.</li>\n",
    "\n",
    "<li> Ensuite, b devient a et r devient b ; et on recommence: on effectue la division euclidienne de a par b et on note r le reste.</li>\n",
    "\n",
    "<li> Et on continue ainsi de suite jusqu'à ce qu'une division donne un reste égal à 0.\n",
    "Le pgcd n’est pas défini lorsque les deux nombres sont nuls. </li>\n",
    "</ul>\n",
    "\n",
    "<p>Ecrire une fonction récursive pgcd(a,b) qui renvoie le plus grand diviseur commun de deux entiers naturels non nuls a et b. </p>\n",
    "\n",
    "\n",
    "\n",
    "\n",
    "\n"
   ]
  },
  {
   "cell_type": "code",
   "execution_count": null,
   "metadata": {},
   "outputs": [],
   "source": [
    "def pgcd(a,b):\n",
    "    pass\n",
    "\n",
    "\n",
    "\n",
    "assert pgcd(119,544)==17\n",
    "assert pgcd(2,3)==1"
   ]
  },
  {
   "cell_type": "markdown",
   "metadata": {},
   "source": [
    "## Adieu les maths, vive les chaines de caractères "
   ]
  },
  {
   "cell_type": "markdown",
   "metadata": {},
   "source": [
    "petit rappel "
   ]
  },
  {
   "cell_type": "code",
   "execution_count": null,
   "metadata": {},
   "outputs": [],
   "source": [
    "mot=\"bonjour\"\n",
    "mot[1:]\n"
   ]
  },
  {
   "cell_type": "markdown",
   "metadata": {},
   "source": [
    "<strong> Exercice 6 </strong> <br>\n",
    "Ecrire une fonction récursive compte(car,mot) qui retourne le nombre d'apparitions du caractère car dans la chaine de caractère mot."
   ]
  },
  {
   "cell_type": "code",
   "execution_count": null,
   "metadata": {},
   "outputs": [],
   "source": [
    "def compte(car,mot):\n",
    "    pass"
   ]
  },
  {
   "cell_type": "markdown",
   "metadata": {},
   "source": [
    "<strong> Exercice 7 :</strong>  Palindromes\n",
    "\n",
    "\n",
    "On appelle **palindrome** un mot qui se lit dans les deux sens comme \"selles\" ou \"radar\".\n",
    "\n",
    "La fonction itérative ci-dessous renvoie vrai si le mot\n",
    "passé en paramètre est un palindrome.\n",
    "Pour le mot \"Selles\" composé de 6 lettres, on\n",
    "fait 3 comparaisons.\n",
    "Pour le mot \"Radar\" composé de 5 lettres on\n",
    "ne fait que 2 comparaisons (une unique lettre\n",
    "est forcément un palindrome)"
   ]
  },
  {
   "cell_type": "code",
   "execution_count": null,
   "metadata": {},
   "outputs": [],
   "source": [
    "def est_palindrome(mot):\n",
    "    mot=mot.lower()\n",
    "    for i in range(len(mot)//2):\n",
    "        if mot[i]!=mot[-i-1]:\n",
    "            return False\n",
    "    return True"
   ]
  },
  {
   "cell_type": "markdown",
   "metadata": {},
   "source": [
    "**Une  version récursive...**\n",
    "\n",
    "1) Dans notre cas quel est \"l’état trivial\"?"
   ]
  },
  {
   "cell_type": "raw",
   "metadata": {},
   "source": []
  },
  {
   "cell_type": "markdown",
   "metadata": {},
   "source": [
    "2) Expliquer ce qui va conduire à cet \"état trivial\""
   ]
  },
  {
   "cell_type": "raw",
   "metadata": {},
   "source": []
  },
  {
   "cell_type": "markdown",
   "metadata": {},
   "source": [
    "3) Ecrivez la version récursive "
   ]
  },
  {
   "cell_type": "code",
   "execution_count": null,
   "metadata": {},
   "outputs": [],
   "source": []
  },
  {
   "cell_type": "markdown",
   "metadata": {},
   "source": [
    "***Bonus, si vous avez le temps***\n",
    "\n",
    "Modifier votre programme pour qu'il considère que la phrase \"Karine alla en Irak\" soit un palindrome."
   ]
  },
  {
   "cell_type": "code",
   "execution_count": null,
   "metadata": {},
   "outputs": [],
   "source": []
  },
  {
   "cell_type": "markdown",
   "metadata": {},
   "source": [
    "## Avec les tableaux"
   ]
  },
  {
   "cell_type": "markdown",
   "metadata": {},
   "source": [
    "<strong> Exercice 8 </strong> <br>Écrire une fonction récursive somme_list_rec qui prend un paramètre un tableau de nombres et renvoie la somme des termes de ce tableau <br>\n",
    "<em>Par exemple : somme_tab([4, 7, 2]) renvoie 13. </em>\n"
   ]
  },
  {
   "cell_type": "code",
   "execution_count": null,
   "metadata": {},
   "outputs": [],
   "source": [
    "def somme_tab(l):\n",
    "    pass"
   ]
  },
  {
   "cell_type": "markdown",
   "metadata": {},
   "source": [
    "<strong> Exercice 9 </strong> <br>Ecrire une fonction recursive longueur(l) qui renvoie le nombre de valeurs dans la liste sans utiliser la fonction len."
   ]
  },
  {
   "cell_type": "code",
   "execution_count": null,
   "metadata": {},
   "outputs": [],
   "source": []
  },
  {
   "cell_type": "markdown",
   "metadata": {},
   "source": [
    "<strong> Exercice 10 </strong> <p> Le rendu de monnaie</p>"
   ]
  },
  {
   "cell_type": "markdown",
   "metadata": {},
   "source": [
    "<p> On prend comme système monétaire le système suivant représenté par un tableau.</p>\n",
    "syst = [500, 200, 100, 50, 20, 10, 1]\n",
    "<p> On suppose que le montant à rendre est un nombre entier.</p>\n",
    "Le programme ci-dessous écrit en itératif renvoie le résultat sous forme d’une liste de listes : \n"
   ]
  },
  {
   "cell_type": "code",
   "execution_count": null,
   "metadata": {},
   "outputs": [],
   "source": [
    "def rendu(n, s):\n",
    "    reste_a_payer = n\n",
    "    monnaie = []\n",
    "    for piece in s :\n",
    "        quotient = reste_a_payer // piece\n",
    "        reste = reste_a_payer % piece\n",
    "        if quotient != 0:\n",
    "            monnaie.append([quotient , piece])\n",
    "            reste_a_payer = reste\n",
    "    return monnaie \n"
   ]
  },
  {
   "cell_type": "code",
   "execution_count": null,
   "metadata": {},
   "outputs": [],
   "source": [
    "syst = [500, 200, 100, 50, 20, 10, 1] \n",
    "rendu(97, syst)"
   ]
  },
  {
   "cell_type": "markdown",
   "metadata": {},
   "source": [
    "<p> Ecrire une fonction récursive du rendue de monnaie </p>"
   ]
  },
  {
   "cell_type": "code",
   "execution_count": null,
   "metadata": {},
   "outputs": [],
   "source": [
    "def rendurec (n,s):\n",
    "     pass"
   ]
  },
  {
   "cell_type": "markdown",
   "metadata": {},
   "source": [
    "<h2> un petit bonus :  les fractales  </h2> "
   ]
  },
  {
   "attachments": {
    "fractale.JPG": {
     "image/jpeg": "[encoded data removed]"
    }
   },
   "cell_type": "markdown",
   "metadata": {},
   "source": [
    "![fractale.JPG](attachment:fractale.JPG)"
   ]
  },
  {
   "cell_type": "markdown",
   "metadata": {},
   "source": [
    "<a img=\"fractale.jpeg\"> </a>"
   ]
  },
  {
   "cell_type": "code",
   "execution_count": null,
   "metadata": {},
   "outputs": [],
   "source": [
    "import turtle as t\n",
    "K = 0.5\n",
    "def fractale(x,y,l,etapes,etape=0):\n",
    "    \"\"\"\n",
    "    Dessine la fractale à l'étape étape : 2 segments de longueur l\n",
    "    :param x: l'abscisse x\n",
    "    :param y: l'abscisse y\n",
    "    :param l: la longueur des segments à dessiner\n",
    "    :param etapes: le nombre d'étapes pour la fractalisation\n",
    "    :param etape: l'étape courante un entier\n",
    "    :return:\n",
    "    \"\"\"\n",
    "    segment(x,y,x+l,y)\n",
    "    segment(x, y, x, y + l)\n",
    "    if etape < etapes:\n",
    "        fractale(.....,y,...,etapes,etape + 1)\n",
    "        fractale(x, .....,...., etapes, .......)\n",
    "\n",
    "def segment(x1,y1,x2,y2):\n",
    "    \"\"\"\n",
    "    Dessine un segment d'extrémités les points de coordonnées (x1,y1) et (x2,y2)\n",
    "    :param x1: l'abscisse de l'extrémité du premier point du segment\n",
    "    :param y1: l'ordonnée de l'extrémité du premier point du segment\n",
    "    :param x2: l'abscisse de l'extrémité du deuxième point du segment\n",
    "    :param y2: l'ordonnée de l'extrémité du premier point du segment\n",
    "    :return:\n",
    "    \"\"\"\n",
    "    t.penup()\n",
    "    t.goto(x1,y1)\n",
    "    t.pendown()\n",
    "    t.goto(x2, y2)\n",
    " \n",
    " \n",
    "t.speed(1000)\n",
    "#Appel de la fonction qui dessine la fractale jusqu'à l'étape 4\n",
    "fractale(-200,-200,200,4)\n",
    "t.done()"
   ]
  },
  {
   "cell_type": "markdown",
   "metadata": {},
   "source": [
    "<p> 2. Donner le nombre de segments dessinés à l'étape 6 : ...........</p>"
   ]
  },
  {
   "cell_type": "code",
   "execution_count": null,
   "metadata": {},
   "outputs": [],
   "source": []
  }
 ],
 "metadata": {
  "kernelspec": {
   "display_name": "Python 3 (ipykernel)",
   "language": "python",
   "name": "python3"
  },
  "language_info": {
   "codemirror_mode": {
    "name": "ipython",
    "version": 3
   },
   "file_extension": ".py",
   "mimetype": "text/x-python",
   "name": "python",
   "nbconvert_exporter": "python",
   "pygments_lexer": "ipython3",
   "version": "3.9.7"
  },
  "vscode": {
   "interpreter": {
    "hash": "86ced299d573a58fc1d464bd2f917835a691b9d9cefee14c59fce60008360703"
   }
  }
 },
 "nbformat": 4,
 "nbformat_minor": 2
}
