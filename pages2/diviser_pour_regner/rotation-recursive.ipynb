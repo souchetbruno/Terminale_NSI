{
 "cells": [
  {
   "cell_type": "markdown",
   "metadata": {},
   "source": [
    "<h1>  Rotation d'un quart de tour d'une image </h1>"
   ]
  },
  {
   "cell_type": "markdown",
   "metadata": {},
   "source": [
    "Une image est un tableau à 2 dimensions composé de *pixels*. Un *pixel* est, dans le codage **RGB**, un triplet d'entiers compris entre 0 et 255.  \n",
    "Les nombres correspondent à l'intensité respectives du rouge *red* , du vert *green* et du bleu *blue*.  \n",
    "Exemples :\n",
    "- un pixel de valeur `[0,0,0]` est noir\n",
    "- un pixel de valeur `[255,255,255]` est blanc\n",
    "- un pixel de valeur `[255,0,0]` est rouge\n",
    "- un pixel de valeur `[0,255,0]` est rouge\n",
    "- un pixel de valeur `[255,0,255]` est violet\n",
    "- un pixel de valeur `[0,0,155]` est bleu foncé"
   ]
  },
  {
   "cell_type": "markdown",
   "metadata": {},
   "source": [
    "## Le module PIL\n",
    "\n",
    "Nous utiliserons le module `PIL` (Python Image Library) qui permet de gérer les images facilement. La partie qui nous interesse peut être importée par le code :\n",
    "`from PIL import Image`  \n",
    "\n",
    "* On ouvre une image à l'aide de `img = Image.open(nom_du_fichier)` le nom du fichier sera une chaîne de caractère et le fichier sera placé dans le même dossier que le notebook.\n",
    "\n",
    "* Les dimensions de l'image affectée à la variable `img` peuvent être récupérée par `img.size` (on récupère ainsi l'*attribut* `size` de l'objet Image). C'est un tuple.\n",
    "\n",
    "* La valeur du pixel d'abscisse $x$ et d'ordonnée $y$ peut être récupérée par  la méthode `getpixel(x,y)`  \n",
    "Dans l'exemple suivant `img.getpixel(2,15)` on récupère la valeur du pixel de coordonnées $(2,15)$\n",
    "\n",
    "On précise que la première coordonnée corespond à l'abscisse et la seconde à l'ordonnée, l'origine du repère étant en haut à gauche de l'image, les axes allant vers la droite et le bas.\n",
    "![Axes des images](https://i.stack.imgur.com/t4AiI.png)\n",
    "\n",
    "* On peut affecter le triplet `(r,g,b)` au pixel de coordonnées `(x,y)` à l'aide de :\n",
    "`img.putpixel((x,y),(r,g,b))`\n",
    "\n",
    "* L'image peut être sauvegardée à l'aide de la méthode `save` : `img.save(nom_du_fichier)`.   \n",
    "Par exemple : `img.save(\"ma_nouvelle_image.jpg\")`\n",
    "\n",
    "* Elle peut être affichée à l'aide de `img.show()`\n",
    "\n",
    "* Enfin, une nouvelle image (noire par défaut et qui sera modifiée par la suite) peut être créée à l'aide de `nouvelle_image = Image.new(\"RGB\", (largeur,hauteur))`"
   ]
  },
  {
   "cell_type": "markdown",
   "metadata": {},
   "source": [
    "## Partie A : algorithme simple de rotation d'un quart de tour."
   ]
  },
  {
   "cell_type": "markdown",
   "metadata": {},
   "source": [
    "<div class=\"alert alert-block alert-warning\">     \n",
    "    \n",
    "## Exercice 1 :  \n",
    "    \n",
    "\n",
    "1. Ouvrir l'image de la joconde.\n",
    "2. Afficher les dimensions de cette image.\n",
    "3. Créer un nouvelle image, de mêmes dimensions, qui sera noire au début. Elle servira à stocker l'image obtenue par rotation.\n",
    "4. <strong>Propriété </strong>: Pour une image carrée de taille $n \\times n$, l'image obtenue par rotation d'un quart de tour dans le sens des aiguilles d'une montre a pour pixel $(x,y)$ le pixel initialement en $(y,n-1-x)$.  \n",
    "    Ecrire une suite d'instructions qui stocke dans la nouvelle image celle obtenue par rotation de la joconde.  \n",
    "5. Enregistrez l'image dans le fichier `joconde_2.jpg`.  Afficher cette nouvelle image\n",
    "\n",
    "</div>"
   ]
  },
  {
   "cell_type": "code",
   "execution_count": 1,
   "metadata": {},
   "outputs": [],
   "source": [
    "from PIL import Image\n",
    "# question 1\n",
    "\n",
    "\n",
    "#question 2\n",
    "\n",
    "#question 3\n",
    "\n",
    "\n",
    "# question 4\n",
    "\n",
    "\n",
    "# question 5"
   ]
  },
  {
   "cell_type": "markdown",
   "metadata": {},
   "source": [
    "<div class=\"alert alert-block alert-warning\">     \n",
    "    \n",
    "## Exercice 2 :  \n",
    "    \n",
    "\n",
    "\n",
    "Pour une image de taille $n \\times n$, quelle est la taille de la mémoire utilisée par cet algorithme ?\n",
    "    \n",
    "</div>"
   ]
  },
  {
   "cell_type": "markdown",
   "metadata": {},
   "source": [
    "**Votre réponse ici**     "
   ]
  },
  {
   "cell_type": "markdown",
   "metadata": {},
   "source": [
    "<h2> Rotation d'un quart de tour d'une image avec la récursivité.<br> Principe du Diviser pour Régner </h2>\n",
    "\n",
    "Dans la suite de ce notebok, nous allons faire le quart de tour mais en utilisant une méthode récursive. <br>\n",
    "<h5> Dans toute cette partie, on se contentera de faire tourner une image carrée dont la taille est une puissance de 2.</h5>"
   ]
  },
  {
   "cell_type": "markdown",
   "metadata": {},
   "source": [
    "<div class=\"alert alert-block alert-warning\">     \n",
    "    \n",
    "## Exercice 3 :  \n",
    "    \n",
    "\n",
    "\n",
    "1. Ecrire une procédure (une fonction sans retour) `echange_pix(image, x0, y0, x1, y1)` qui échange les pixels de coordonnées $(x0,y0)$ et $(x1,y1)$ de l'image passée en paramètres.\n",
    "    \n",
    "    \n",
    "</div>"
   ]
  },
  {
   "cell_type": "code",
   "execution_count": 5,
   "metadata": {},
   "outputs": [],
   "source": [
    "def echange_pix(image : Image, x0 : int,y0 : int,x1 : int,y1 : int):\n",
    "   pass"
   ]
  },
  {
   "cell_type": "code",
   "execution_count": 6,
   "metadata": {},
   "outputs": [],
   "source": [
    "# tests pour echange_pix\n",
    "from random import randint\n",
    "\n",
    "# Configuration\n",
    "image_test = Image.open(\"joconde.jpg\")\n",
    "x0 , y0 = randint(0,255), randint(0,255)\n",
    "x1 , y1 = randint(0,255), randint(0,255)\n",
    "pixel0 = image_test.getpixel((x0,y0))\n",
    "pixel1 = image_test.getpixel((x1,y1))\n",
    "\n",
    "# echange\n",
    "echange_pix(image_test,x0,y0,x1,y1)\n",
    "assert image_test.getpixel((x0,y0)) == pixel1\n",
    "assert image_test.getpixel((x1,y1)) == pixel0\n"
   ]
  },
  {
   "cell_type": "markdown",
   "metadata": {},
   "source": [
    "Dans la suite de cet exercice, nous allons adopter une stratégie de type *diviser pour régner*  \n",
    "\n",
    "L'image est divisée en 4 cadrans. Chaque cadrant est tourné récursivement puis une permutation circulaire est effectuée.\n",
    "\n",
    "![rotations récursives](https://nc-lycees.netocentre.fr/s/ajsRdy2sGj9GHTB/download)\n",
    "\n",
    "La permutation de chaque cadrant est réalisée en enchaînant plusieurs échanges de cadrans.\n",
    "\n",
    "![rotations récursives](https://nc-lycees.netocentre.fr/s/pHPqgzHNifrDiE3/download)\n"
   ]
  },
  {
   "cell_type": "markdown",
   "metadata": {},
   "source": [
    "<div class=\"alert alert-block alert-warning\">     \n",
    "    \n",
    "## Exercice 4 :  \n",
    "    \n",
    "\n",
    "\n",
    "Ecrire une procédure (une fonction sans retour) `echange_cadrans(image, x0, y0, x1, y1,n)` qui échange deux cadrants carrés de taille `n` de coordonnées de départ (x0,y0) et le second de coordonnées (x1,y1).\n",
    "    \n",
    "    \n",
    "</div>"
   ]
  },
  {
   "cell_type": "code",
   "execution_count": 7,
   "metadata": {},
   "outputs": [],
   "source": [
    "def echange_cadrans(image : Image, x0 : int,y0 : int,x1 : int,y1 : int,n : int):\n",
    "    pass\n",
    "            "
   ]
  },
  {
   "cell_type": "code",
   "execution_count": 8,
   "metadata": {},
   "outputs": [],
   "source": [
    "# tests pour echange_cadrans\n",
    "ima = Image.new(\"RGB\",(2, 2))\n",
    "ima.putpixel((0,0),(255,0,0))\n",
    "ima.putpixel((0,1),(0,255,0))\n",
    "ima.putpixel((1,0),(0,0,255))\n",
    "ima.putpixel((1,1),(255,255,255))\n",
    "\n",
    "# Configuration\n",
    "pix1 = ima.getpixel((0,0))\n",
    "pix2 = ima.getpixel((0,1))\n",
    "pix3 = ima.getpixel((1,0))\n",
    "pix4 = ima.getpixel((1,1))\n",
    "\n",
    "# tests echange\n",
    "echange_cadrans(ima,0,0,0,1,1)\n",
    "assert ima.getpixel((0,0)) == pix2\n",
    "assert ima.getpixel((0,1)) == pix1\n",
    "echange_cadrans(ima,0,1,1,1,1)\n",
    "assert ima.getpixel((0,1)) == pix4\n",
    "assert ima.getpixel((1,1)) == pix1"
   ]
  },
  {
   "cell_type": "markdown",
   "metadata": {},
   "source": [
    "<div class=\"alert alert-block alert-warning\">     \n",
    "    \n",
    "## Exercice 5 :  \n",
    "    \n",
    "\n",
    "Ecrire une procédure récursive `tourne_cadrans(image,x0,y0,n)` qui prend en paramètres l'image considérée, les coordonées de départ (x0,y0) et la taille `n` du cadran.\n",
    "Cette procédure doit appliquer récursivement les rotations à chaque cadran puis applique les permutations circulaires échangeant les 4 cadrans pour finaliser la rotation.\n",
    "    \n",
    "*Indice : le cas de base se produit quand n vaut 1, dans ce cas la rotation est très simple ...*\n",
    "</div>"
   ]
  },
  {
   "cell_type": "code",
   "execution_count": 9,
   "metadata": {},
   "outputs": [],
   "source": [
    "def tourne_cadrans(image,x0,y0,n):\n",
    "    pass\n",
    "    \n"
   ]
  },
  {
   "cell_type": "markdown",
   "metadata": {},
   "source": [
    "<div class=\"alert alert-block alert-warning\">     \n",
    "    \n",
    " \n",
    "   \n",
    "Pour vérifier votre procédure `tourne_cadrans` , lancer la procédure `tourne_image(image)` effectuant la rotation d'un quart de tour de l'image via cette méthode récursive, puis enregistre l'image dans `joconde_recursive.jpg` et l'afficher.\n",
    "    \n",
    "</div>"
   ]
  },
  {
   "cell_type": "code",
   "execution_count": 11,
   "metadata": {},
   "outputs": [],
   "source": [
    "def tourne_image(image : Image):\n",
    "    n,p = image.size\n",
    "    assert n == p\n",
    "    tourne_cadrans(image,0,0,n)\n",
    "    \n",
    "img = Image.open('joconde.jpg')\n",
    "tourne_image(img)\n",
    "img.show()\n",
    "img.save(\"joconde_recursive.jpg\")"
   ]
  },
  {
   "cell_type": "markdown",
   "metadata": {},
   "source": [
    "<div class=\"alert alert-block alert-warning\">     \n",
    "    \n",
    "## Exercice 6 :  \n",
    "    \n",
    "\n",
    "Pour une image de taille 𝑛×𝑛, quelle est la taille de la mémoire utilisée par cet algorithme ?\n",
    "    \n",
    "</div>"
   ]
  },
  {
   "cell_type": "markdown",
   "metadata": {},
   "source": [
    "**Votre réponse ici**"
   ]
  },
  {
   "cell_type": "code",
   "execution_count": null,
   "metadata": {},
   "outputs": [],
   "source": []
  },
  {
   "cell_type": "markdown",
   "metadata": {},
   "source": [
    "<h2> Résumé </h2>\n",
    "<li> Diviser : on découpe l'image en images de taille divisée par 2,</li>\n",
    "<li> Régner : on effectue la rotation de manière récursive de chaque image de taille réduite,</li>\n",
    "<li> Fusion : la fusion est réalisée en échangeant les cadrants lors des appels récursifs.</li>"
   ]
  },
  {
   "cell_type": "markdown",
   "metadata": {},
   "source": [
    "Nous avons vu deux algorithmes permettant de tourner une image carrée de taille une puissance de 2.\n",
    "\n",
    "<ol> <li> Algorithme naif : </li>\n",
    "    <ul>\n",
    "        <li>la complexité en temps de l'algorithme naïf est en O(n²) ( 2 boucles pour imbriquées) </li>\n",
    "        <li> Par contre, lors de cet algorithme naïf, il a fallu construire une seconde image de même taille pixel par pixel. Cela conduit donc à une complexité en mémoire en O(n²). </li>\n",
    "    </ul><br>\n",
    "    <li> Algorithme suivant le paradigme diviser pour régner </li>\n",
    "        <p>       Diviser : on découpe l'image en images de taille divisée par 2,<br>\n",
    "        Régner : on effectue la rotation de manière récursive de chaque image de taille réduite,<br>\n",
    "         Fusion : la fusion est réalisée en échangeant les cadrants lors des appels récursifs.<br>\n",
    "        </p>\n",
    "        <ul>\n",
    "        <li> Premièrement, la complexité en temps. Si on étudie la procédure récursive tourne_cadrans, elle fait appel 4 fois à elle-même sur des images de taille réduite de 2 mais il y a aussi 3 appels à une procédure echange_cadrans. Cette procédure echange_cadrans contient 2 boucles for imbriquées. Sa complexité est en O(n²)<br>\n",
    "Dès lors, on peut montrer par un calcul mathématique que la complexité en temps de la procédure tourneCarre est en O(n²×log2(n))\n",
    "Cette complexité en temps est donc (un peu) moins bonne que celle de l'algorithme naïf.</li>\n",
    "    <li>Par contre, dans cette procédure, il n'y a pas de création d'une nouvelle image mais de simples permutations de pixels, un à un. La complexité en mémoire est donc ici en O(1).\n",
    "Cette complexité en mémoire en donc bien meilleure que celle de l'algorithme naïf.</li>\n",
    "</ul>\n",
    "</ol>"
   ]
  }
 ],
 "metadata": {
  "kernelspec": {
   "display_name": "Python 3",
   "language": "python",
   "name": "python3"
  },
  "language_info": {
   "codemirror_mode": {
    "name": "ipython",
    "version": 3
   },
   "file_extension": ".py",
   "mimetype": "text/x-python",
   "name": "python",
   "nbconvert_exporter": "python",
   "pygments_lexer": "ipython3",
   "version": "3.9.10"
  }
 },
 "nbformat": 4,
 "nbformat_minor": 4
}
