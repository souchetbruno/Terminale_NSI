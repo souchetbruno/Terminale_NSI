{
 "cells": [
  {
   "cell_type": "markdown",
   "metadata": {},
   "source": [
    "<center> <u> <h1> Exercices d'applications de la structure pile </h1></u></center>"
   ]
  },
  {
   "cell_type": "markdown",
   "metadata": {},
   "source": [
    "<h2> 1. Le bon parenthésage d'une expression </h2>"
   ]
  },
  {
   "cell_type": "markdown",
   "metadata": {},
   "source": [
    "<p> On souhaite écrire une fonction permettant d’abord de vérifier si une expression est bien ‘’parenthésée’’, et ensuite de renvoyer la liste (ou la pile) des couples correspondant aux indices de chaque parenthèse ouvrante et fermante qui lui correspond.</p>\n",
    "<center>\n",
    "<table> \n",
    "    <tr> \n",
    "        <td> expression  </td>\n",
    "        <td> resultat </td>\n",
    "    </tr>\n",
    "    <tr> \n",
    "        <td> \"\"  </td>\n",
    "        <td> True, [] </td>\n",
    "    </tr>\n",
    "    <tr> \n",
    "        <td> \"()()\"  </td>\n",
    "        <td> True,[(0,1),(2,3)] </td>\n",
    "    </tr>\n",
    "    <tr> \n",
    "        <td> \"((a)+b)(c)\"  </td>\n",
    "        <td> True,[(1,3),(0,6),(7,9)] </td>\n",
    "    </tr>\n",
    "    <tr> \n",
    "        <td> \")(\"  </td>\n",
    "        <td> False </td>\n",
    "    </tr>\n",
    "    <tr> \n",
    "        <td> \"(()\"  </td>\n",
    "        <td> False </td>\n",
    "    </tr>\n",
    "</table>\n",
    "</center>\n",
    "<li> Algo1 :   avec juste le retour d’un booléen </li>\n",
    "<li> Algo2 :  avec le retour (si bien parenthésée) d’une liste contenant les indices des couples de parenthèses comme les résultats ci-dessus </li>\n",
    "<li> Algo3 :  on rajoute des crochets [ ]  et des accolades {} à l’expression </li>\n"
   ]
  },
  {
   "cell_type": "markdown",
   "metadata": {},
   "source": [
    "<u> Principe de l’algorithme de l’Algo1 : </u>\n",
    "\n",
    "         On crée une …………., \n",
    "         On parcourt l’expression de gauche à droite.\n",
    "         \tSi  on rencontre une parenthèse ouvrante \"( \"  alors on ………………………., \n",
    "         \tSi on rencontre une parenthèse fermante \" ) \"  alors \n",
    "                              Si la pile n’est pas vide on …………….\n",
    "                              Sinon  on retourne …… \n",
    "         A la fin la pile doit être ……..\n",
    "\n",
    "Ecrire le code en python de cet algorithme puis le tester. <br> <b>On utilisera l'implémentation de votre choix de la structure Pile"
   ]
  },
  {
   "cell_type": "code",
   "execution_count": null,
   "metadata": {},
   "outputs": [],
   "source": [
    "# implémentation de la structure pile :\n",
    "\n",
    "# code de la fonction\n",
    "def algo1(expression):\n",
    "    \"\"\" paramètre d'entrée : une chaine de caractère expression\n",
    "        paramètre de sortie : un booleen qui vaut True si expression est parenthésée ou False sinon\"\"\"\n",
    "        pass"
   ]
  },
  {
   "cell_type": "markdown",
   "metadata": {},
   "source": [
    "Code de l'algo2 + tests"
   ]
  },
  {
   "cell_type": "code",
   "execution_count": null,
   "metadata": {},
   "outputs": [],
   "source": []
  },
  {
   "cell_type": "markdown",
   "metadata": {},
   "source": [
    "code de l'algo3 + tests"
   ]
  },
  {
   "cell_type": "code",
   "execution_count": null,
   "metadata": {},
   "outputs": [],
   "source": []
  },
  {
   "cell_type": "markdown",
   "metadata": {},
   "source": [
    "<h2> <u> 2. Notation Polonaise Inversée </u> </h2>"
   ]
  },
  {
   "cell_type": "markdown",
   "metadata": {},
   "source": [
    "<p> <u>Définition :</u>  La notation polonaise inverse (NPI) (en anglais RPN pour Reverse Polish Notation), également connue sous le nom de notation post-fixée, permet d’écrire de façon non ambiguë les formules arithmétiques sans utiliser de parenthèses. </p>\n",
    "<p> <u> Historique :</u>  Elle est dérivée de la notation polonaise utilisée pour la première fois en 1924 par le mathématicien polonais Jan Lukasiewicz, la NPI a été inventée par le philosophe et informaticien australien Charles Leonard Hamblin dans le milieu des années 1950, pour permettre les calculs sans faire référence à une quelconque adresse mémoire. À la fin des années 1960, elle a été diffusée dans le public comme interface utilisateur avec les calculatrices de bureau de Hewlett-Packard.</p>\n"
   ]
  },
  {
   "cell_type": "markdown",
   "metadata": {},
   "source": [
    "<em> Exemple:  Voici une expression algébrique ((3+4)-2)^3  qui vaut 125  <br>\n",
    "En notation in-fixée (celle que nous utilisons la plupart du temps), celà s'écrit        ((3 + 4) - 2)^3 <br>\n",
    "En notation post-fixée ( NPI) celà s’écrit :        3  4  +  2  -  3  ^ <br>\n",
    "\n",
    "<p> Evaluer (=calculer le résultat) les expressions suivantes: <br>\n",
    "  2 4 + 3 * donne ...... <br>  3  4  *  2  -  3 +   donne ……..           <br>           3  4  2  -  +  3 *  donne ………              <br>             3   4  2  3  -  +  *  donne …………\n",
    "</em>"
   ]
  },
  {
   "cell_type": "markdown",
   "metadata": {},
   "source": [
    "L’objectif est d’écrire un programme pour évaluer des expressions écrites en notation polonaise inverse.\n",
    "Les expressions en NPI seront représentées par des tableaux contenant des entiers et des caractères.\n",
    "l’expression précédente sera représentée par le tableau : tab=[3,4,'+',2,'*',3,'^']\n",
    "\n",
    "Principe du programme:  Une pile vide est créée, le tableau est parcouru de gauche à droite\n",
    "-\t Chaque nombre rencontré est empilé.\n",
    "-\t Si l’élément rencontré est un opérateur, on dépile le sommet et le sous-sommet puis on empile le résultat du calcul (sous-sommet \"opération\" sommet )\n",
    "-\t Si l’élément rencontré est une fonction (comme : puissance¨ou racine carré,.. ), on dépile le sommet et on calcule la valeur de la fonction pour le sommet, puis on empile le résultat\n",
    "\n",
    "Coder ce programme en Python, et évaluer différentes expressions. <br>\n",
    "On entrera une chaine de caractères avec des nombres et les opérateurs séparés des espaces  et cette chaine sera convertie en tableau avec la commande :       tab=chaine.split(sep=\" \")\n"
   ]
  },
  {
   "cell_type": "markdown",
   "metadata": {},
   "source": [
    "cas 1 : on ne fait que des additions, soustractions, multiplications ou divisions "
   ]
  },
  {
   "cell_type": "code",
   "execution_count": null,
   "metadata": {},
   "outputs": [],
   "source": []
  },
  {
   "cell_type": "markdown",
   "metadata": {},
   "source": [
    "cas 2 : on rajoute la fonction puissance"
   ]
  },
  {
   "cell_type": "code",
   "execution_count": null,
   "metadata": {},
   "outputs": [],
   "source": []
  }
 ],
 "metadata": {
  "kernelspec": {
   "display_name": "Python 3.9.13 64-bit (microsoft store)",
   "language": "python",
   "name": "python3"
  },
  "language_info": {
   "name": "python",
   "version": "3.9.13"
  },
  "orig_nbformat": 4,
  "vscode": {
   "interpreter": {
    "hash": "970a2a4939579a4c22872227820a264ec023ee5692739211cbaca24386397975"
   }
  }
 },
 "nbformat": 4,
 "nbformat_minor": 2
}
