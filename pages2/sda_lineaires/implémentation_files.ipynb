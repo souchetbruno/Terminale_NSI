{
 "cells": [
  {
   "cell_type": "markdown",
   "metadata": {},
   "source": [
    "<h1> Implémentation d'une file en Python </h1>"
   ]
  },
  {
   "cell_type": "markdown",
   "metadata": {},
   "source": [
    "<h2> A)  En utilisant une simple liste"
   ]
  },
  {
   "cell_type": "markdown",
   "metadata": {},
   "source": [
    "<p> 1.  créer les fonctions ci-dessous </p>"
   ]
  },
  {
   "cell_type": "code",
   "execution_count": 1,
   "metadata": {},
   "outputs": [],
   "source": [
    "def créer_file():\n",
    "    \"\"\"retourne une file vide \"\"\"\n",
    "    \n",
    "\n",
    "def vide(f):\n",
    "    \"\"\" renvoie True si la file est vide False sinon\"\"\"\n",
    "    \n",
    "\n",
    "def enfiler(f,x):\n",
    "    \"\"\"ajoute x à la file f\"\"\"\n",
    "    \n",
    "\n",
    "def defiler(f):\n",
    "    \"\"\"enlève et renvoie le premier élément de la file \"\"\"\n",
    "    assert not vide(f), \"file vide\"\n",
    "    \n",
    "def afficher(f):\n",
    "    \"\"\" affiche une pile sous la forme  < 5 4 2 < où 5 représente l'élément en tête et 2 l'élement en queue  \"\"\"\n",
    "    \n",
    "    "
   ]
  },
  {
   "cell_type": "raw",
   "metadata": {},
   "source": [
    "<p> 2. Ecrire un script qui teste les fonctions précédentes :</p>"
   ]
  },
  {
   "cell_type": "code",
   "execution_count": null,
   "metadata": {},
   "outputs": [],
   "source": []
  },
  {
   "cell_type": "markdown",
   "metadata": {},
   "source": [
    "<h2> B) Création d'une classe File </h2>"
   ]
  },
  {
   "cell_type": "markdown",
   "metadata": {},
   "source": [
    "<p> 1. En vous inspirant de ce que l’on a vu pour la classe Pile(), réaliser cette implémentation </p>"
   ]
  },
  {
   "cell_type": "code",
   "execution_count": null,
   "metadata": {},
   "outputs": [],
   "source": [
    "class File:\n",
    "    ''' classe File création d'une instance File avec une liste '''\n",
    "    \n",
    "    def __init__(self):\n",
    "        \"Initialisation d'une file vide\"\n",
    "        \n",
    "    def est_vide(self):\n",
    "        \"\"\" méthode qui prend en parmètre la file et retourne un boolén égale à True si la file est vide\"\"\"\n",
    "        \n",
    "\n",
    "    def defiler(self):\n",
    "        \"\"\" méthode qui supprime l'élement en tête de la file et le retourne\"\"\"\n",
    "    \n",
    "    def enfiler(self,x):\n",
    "        \"\"\" méthode qui ajoute en queue de la file l'élement x \"\"\"\n",
    "    \n",
    "    def __str__(self):\n",
    "        \"\"\" méthode d'affichage sous la forme < a b c < \"\"\"\n"
   ]
  },
  {
   "cell_type": "markdown",
   "metadata": {},
   "source": [
    "<p> 2. Ecrire un script permettant de tester les méthodes de la classe </p> "
   ]
  },
  {
   "cell_type": "code",
   "execution_count": null,
   "metadata": {},
   "outputs": [],
   "source": []
  },
  {
   "cell_type": "markdown",
   "metadata": {},
   "source": [
    "<p> 3. Ecrire les methodes taille et sommet qui retournent respectivement la taille de la file et le sommet de la file (le premier à sortir..).<br> la file sera conservée dans son état initial.</p>"
   ]
  },
  {
   "cell_type": "code",
   "execution_count": null,
   "metadata": {},
   "outputs": [],
   "source": []
  },
  {
   "cell_type": "markdown",
   "metadata": {},
   "source": [
    "<h4> Exercice 4 </h4>\n",
    "On dispose d’une file, écrire une fonction qui renvoie la file inversée (l’élément de la tête sera situé à la queue et ainsi de suite).\n",
    "On utilisera seulement les méthodes associées aux piles et aux files"
   ]
  },
  {
   "cell_type": "code",
   "execution_count": null,
   "metadata": {},
   "outputs": [],
   "source": []
  },
  {
   "cell_type": "markdown",
   "metadata": {},
   "source": [
    "<h4> Exercice 5 </h4>\n",
    "Même question mais pour une pile "
   ]
  },
  {
   "cell_type": "code",
   "execution_count": null,
   "metadata": {},
   "outputs": [],
   "source": []
  },
  {
   "cell_type": "markdown",
   "metadata": {},
   "source": [
    "<h4> Exercice 6 </h4>\n",
    "On dispose d’une file contenant des entiers, écrire une fonction qui renvoie une file où on aura séparé les nombres pairs des impairs"
   ]
  },
  {
   "cell_type": "code",
   "execution_count": null,
   "metadata": {},
   "outputs": [],
   "source": []
  },
  {
   "cell_type": "markdown",
   "metadata": {},
   "source": [
    "<h4> Exercice 7 </h4>"
   ]
  }
 ],
 "metadata": {
  "kernelspec": {
   "display_name": "Python 3",
   "language": "python",
   "name": "python3"
  },
  "language_info": {
   "codemirror_mode": {
    "name": "ipython",
    "version": 3
   },
   "file_extension": ".py",
   "mimetype": "text/x-python",
   "name": "python",
   "nbconvert_exporter": "python",
   "pygments_lexer": "ipython3",
   "version": "3.8.8"
  }
 },
 "nbformat": 4,
 "nbformat_minor": 2
}
