{
 "cells": [
  {
   "cell_type": "markdown",
   "metadata": {},
   "source": [
    "<h1> TP Arbre Binaire de Recherche </h1>"
   ]
  },
  {
   "cell_type": "markdown",
   "metadata": {},
   "source": [
    "<h3> Classe Noeud :\n",
    "<li> qui posséde 3 attributs : clé , gauche et droit </li>\n",
    "<li> et la fonction hauteur pour l'affichage </li>\n",
    "</h3> "
   ]
  },
  {
   "cell_type": "code",
   "execution_count": 36,
   "metadata": {},
   "outputs": [],
   "source": [
    "class Noeud:\n",
    "    def __init__(self,valeur,gauche=None,droit=None):\n",
    "        self.clé=valeur # valeur à définir obligatoirement à la création du noeud\n",
    "        self.gauche=gauche\n",
    "        self.droit=droit\n",
    "\n",
    "        \n",
    "def hauteur(arbre):\n",
    "    if arbre is None:\n",
    "        return -1\n",
    "    elif arbre.gauche is None and arbre.droit is None:\n",
    "        return 0\n",
    "    else:\n",
    "        return 1+max(hauteur(arbre.gauche),hauteur(arbre.droit))"
   ]
  },
  {
   "cell_type": "markdown",
   "metadata": {},
   "source": [
    "<h3> La fonction qui permet l'affichage joli d'un arbre </h3>"
   ]
  },
  {
   "cell_type": "code",
   "execution_count": 15,
   "metadata": {},
   "outputs": [],
   "source": [
    "import networkx as nx\n",
    "import matplotlib.pyplot as plt\n",
    "\n",
    "def repr_graph(arbre, size=(8,8), null_node=False):\n",
    "    \"\"\"\n",
    "    size : tuple de 2 entiers. Si size est int -> (size, size)\n",
    "    null_node : si True, trace les liaisons vers les sous-arbres vides\n",
    "    \"\"\"\n",
    "    def parkour(arbre, noeuds, branches, labels, positions, profondeur, pos_courante, pos_parent, null_node):\n",
    "        if arbre is not None:\n",
    "            noeuds[0].append(pos_courante)\n",
    "            positions[pos_courante] = (pos_courante, profondeur)\n",
    "            profondeur -= 1\n",
    "            labels[pos_courante] = str(arbre.clé)\n",
    "            branches[0].append((pos_courante, pos_parent))\n",
    "            pos_gauche = pos_courante - 2**profondeur\n",
    "            parkour(arbre.gauche, noeuds, branches, labels, positions, profondeur, pos_gauche, pos_courante, null_node)\n",
    "            pos_droit = pos_courante + 2**profondeur\n",
    "            parkour(arbre.droit, noeuds, branches, labels, positions, profondeur, pos_droit, pos_courante, null_node)\n",
    "        elif null_node:\n",
    "            noeuds[1].append(pos_courante)\n",
    "            positions[pos_courante] = (pos_courante, profondeur)\n",
    "            branches[1].append((pos_courante, pos_parent))\n",
    "    \n",
    "    \n",
    "    if arbre ==():\n",
    "        return\n",
    "    \n",
    "    branches = [[]]\n",
    "    profondeur = hauteur(arbre)\n",
    "    pos_courante = 2**profondeur\n",
    "    noeuds = [[pos_courante]]\n",
    "    positions = {pos_courante: (pos_courante, profondeur)} \n",
    "    labels = {pos_courante: str(arbre.clé)}\n",
    "    \n",
    "    if null_node:\n",
    "        branches.append([])\n",
    "        noeuds.append([])\n",
    "        \n",
    "    profondeur -= 1\n",
    "    parkour(arbre.gauche, noeuds, branches, labels, positions, profondeur, pos_courante - 2**profondeur, pos_courante, null_node)\n",
    "    parkour(arbre.droit, noeuds, branches, labels, positions, profondeur, pos_courante + 2**profondeur, pos_courante, null_node) \n",
    "\n",
    "    mon_arbre = nx.Graph()\n",
    "    \n",
    "    if type(size) == int:\n",
    "        size = (size, size)    \n",
    "    plt.figure(figsize=size)\n",
    "    \n",
    "    nx.draw_networkx_nodes(mon_arbre, positions, nodelist=noeuds[0], node_color=\"white\", node_size=550, edgecolors=\"blue\")\n",
    "    nx.draw_networkx_edges(mon_arbre, positions, edgelist=branches[0], edge_color=\"black\", width=2)\n",
    "    nx.draw_networkx_labels(mon_arbre, positions, labels)\n",
    "\n",
    "    if null_node:\n",
    "        nx.draw_networkx_nodes(mon_arbre, positions, nodelist=noeuds[1], node_color=\"white\", node_size=50, edgecolors=\"grey\")\n",
    "        nx.draw_networkx_edges(mon_arbre, positions, edgelist=branches[1], edge_color=\"grey\", width=1)\n",
    "\n",
    "    ax = plt.gca()\n",
    "    ax.margins(0.1)\n",
    "    plt.axis(\"off\")\n",
    "    plt.show()\n",
    "    plt.close()       \n"
   ]
  },
  {
   "cell_type": "code",
   "execution_count": 72,
   "metadata": {},
   "outputs": [
    {
     "data": {
      "image/png": "[encoded data removed]",
      "text/plain": [
       "<Figure size 576x576 with 1 Axes>"
      ]
     },
     "metadata": {},
     "output_type": "display_data"
    }
   ],
   "source": [
    "arbreterst=Noeud(5,Noeud(3),Noeud(6,Noeud(5.57),None))\n",
    "repr_graph(arbretest)\n"
   ]
  },
  {
   "attachments": {},
   "cell_type": "markdown",
   "metadata": {},
   "source": [
    "<h4> 1. Compléter la fonction permettant d'insérer une valeur dans un arbre binaire de recherche </h4>"
   ]
  },
  {
   "cell_type": "code",
   "execution_count": 24,
   "metadata": {},
   "outputs": [],
   "source": [
    "def inserer(arbre,newvaleur):\n",
    "    \"\"\" fonction qui retourne un arbre binaire de recherche construit avec l'ABR arbre et newvaleur\n",
    "        en cas de d'égalité la nouvelle valeur sera inséré à gauche \"\"\"\n",
    "    if arbre is None :\n",
    "        pass\n",
    "    else:\n",
    "        v=arbre.clé\n",
    "        if newvaleur<=v:\n",
    "            return Noeud(v,inserer(arbre.gauche,newvaleur),arbre.droit)\n",
    "        else:\n",
    "            pass        \n"
   ]
  },
  {
   "cell_type": "code",
   "execution_count": 25,
   "metadata": {},
   "outputs": [
    {
     "data": {
      "image/png": "[encoded data removed]",
      "text/plain": [
       "<Figure size 288x216 with 1 Axes>"
      ]
     },
     "metadata": {},
     "output_type": "display_data"
    }
   ],
   "source": [
    "# Test\n",
    "A1=Noeud(8)\n",
    "A1=inserer(A1,9)\n",
    "A1=inserer(A1,5)\n",
    "A1=inserer(A1,10)\n",
    "A1=inserer(A1,7)\n",
    "\n",
    "repr_graph(A1,(4,3),False)"
   ]
  },
  {
   "cell_type": "code",
   "execution_count": 31,
   "metadata": {},
   "outputs": [
    {
     "data": {
      "image/png": "[encoded data removed]",
      "text/plain": [
       "<Figure size 288x216 with 1 Axes>"
      ]
     },
     "metadata": {},
     "output_type": "display_data"
    },
    {
     "data": {
      "image/png": "[encoded data removed]",
      "text/plain": [
       "<Figure size 576x504 with 1 Axes>"
      ]
     },
     "metadata": {},
     "output_type": "display_data"
    }
   ],
   "source": [
    "A1=Noeud(8)\n",
    "A1=inserer(A1,9)\n",
    "A1=inserer(A1,5)\n",
    "A1=inserer(A1,10)\n",
    "A1=inserer(A1,7)\n",
    "repr_graph(A1,(4,3),False)\n",
    "A1=inserer(A1,13)\n",
    "A1=inserer(A1,11)\n",
    "A1=inserer(A1,5)\n",
    "A1=inserer(A1,10)\n",
    "A1=inserer(A1,7)\n",
    "repr_graph(A1,(8,7),False)"
   ]
  },
  {
   "cell_type": "markdown",
   "metadata": {},
   "source": [
    "<h4> 2. Ecrire la fonction qui recherche si une valeur est présente dans un arbre binaire de recherche </h4>"
   ]
  },
  {
   "cell_type": "code",
   "execution_count": 119,
   "metadata": {},
   "outputs": [],
   "source": [
    "def recherche(arbre,valeur):\n",
    "    pass\n",
    "    "
   ]
  },
  {
   "cell_type": "code",
   "execution_count": 120,
   "metadata": {},
   "outputs": [
    {
     "data": {
      "text/plain": [
       "True"
      ]
     },
     "execution_count": 120,
     "metadata": {},
     "output_type": "execute_result"
    }
   ],
   "source": [
    "recherche(A1,11)"
   ]
  },
  {
   "cell_type": "code",
   "execution_count": 121,
   "metadata": {},
   "outputs": [
    {
     "data": {
      "text/plain": [
       "False"
      ]
     },
     "execution_count": 121,
     "metadata": {},
     "output_type": "execute_result"
    }
   ],
   "source": [
    "recherche(A1,12)"
   ]
  },
  {
   "cell_type": "markdown",
   "metadata": {},
   "source": [
    "<h4>  3. Ecrire les fonctions minimum (et maximum) qui retourne la plus petite (ou la plus grande) valeur d'un arbre binaire de recherche </h4>"
   ]
  },
  {
   "cell_type": "code",
   "execution_count": 62,
   "metadata": {},
   "outputs": [],
   "source": [
    "def minimum(arbre):\n",
    "    pass\n",
    "\n",
    "def maximum(arbre):\n",
    "    pass\n",
    "\n",
    "        "
   ]
  },
  {
   "cell_type": "markdown",
   "metadata": {},
   "source": [
    "<h4> 4. Ecrire une fonction qui à partir d’une liste d’éléments comparables renvoie l’arbre binaire de recherche associé. </h4>"
   ]
  },
  {
   "cell_type": "code",
   "execution_count": null,
   "metadata": {},
   "outputs": [],
   "source": [
    "def liste_to_ABR(L):\n",
    "    pass"
   ]
  },
  {
   "cell_type": "code",
   "execution_count": null,
   "metadata": {},
   "outputs": [],
   "source": [
    "# test\n",
    "liste = ['cool','nsi','info','pc','arbre','alan','turing','souris','clavier']"
   ]
  },
  {
   "cell_type": "markdown",
   "metadata": {},
   "source": [
    "<h4> 5. Ecrire une fonction chemin(arbre, v) qui retourne une liste des noeuds visités pour arriver à la clé  v </h4>"
   ]
  },
  {
   "cell_type": "code",
   "execution_count": null,
   "metadata": {},
   "outputs": [],
   "source": [
    "def chemin(arbre,v):\n",
    "    pass"
   ]
  },
  {
   "cell_type": "code",
   "execution_count": null,
   "metadata": {},
   "outputs": [],
   "source": []
  }
 ],
 "metadata": {
  "kernelspec": {
   "display_name": "Python 3",
   "language": "python",
   "name": "python3"
  },
  "language_info": {
   "codemirror_mode": {
    "name": "ipython",
    "version": 3
   },
   "file_extension": ".py",
   "mimetype": "text/x-python",
   "name": "python",
   "nbconvert_exporter": "python",
   "pygments_lexer": "ipython3",
   "version": "3.9.13 (tags/v3.9.13:6de2ca5, May 17 2022, 16:36:42) [MSC v.1929 64 bit (AMD64)]"
  },
  "vscode": {
   "interpreter": {
    "hash": "970a2a4939579a4c22872227820a264ec023ee5692739211cbaca24386397975"
   }
  }
 },
 "nbformat": 4,
 "nbformat_minor": 2
}
