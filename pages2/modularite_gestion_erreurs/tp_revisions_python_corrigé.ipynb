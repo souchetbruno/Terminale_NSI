{
 "cells": [
  {
   "cell_type": "markdown",
   "id": "f0a2c33c",
   "metadata": {},
   "source": [
    "<h1> Exercices de révision Python </h1>"
   ]
  },
  {
   "cell_type": "markdown",
   "id": "c1aca801",
   "metadata": {},
   "source": [
    "<h3> Exercice 1 </h3>\n",
    "a) Écrire un programme python qui permet de saisir une suite de nombre (compris entre 100 et -100) tant que l`utilisateur saisit un nombre diffèrent de 0. <br>Le programme doit afficher\n",
    "<ul>\n",
    "<li>Le nombre d`entier négatif</li>\n",
    "<li>Le nombre d'entier positif</li>\n",
    "<li>La somme et la moyenne des nombres saisis</li>\n",
    "<li>Une liste LP qui contient tous les nombres positifs</li>\n",
    "<li>Une liste LN qui contient tous les nombres négatifs</li>\n",
    "</ul>\n"
   ]
  },
  {
   "cell_type": "code",
   "execution_count": 2,
   "id": "95b9074d",
   "metadata": {},
   "outputs": [
    {
     "name": "stdout",
     "output_type": "stream",
     "text": [
      "Entrer un nombre entier entre -100 et 100 15\n",
      "Entrer un nombre entier entre -100 et 100 32\n",
      "Entrer un nombre entier entre -100 et 100 210\n",
      "Entrer un nombre entier entre -100 et 100 2\n",
      "Entrer un nombre entier entre -100 et 100 -2\n",
      "Entrer un nombre entier entre -100 et 100 0\n",
      "le nombre d'entiers négatifs est : 1\n",
      "le nombre d'entiers négatifs est : 3\n",
      "la somme des nombres saisis est : 47\n",
      "la moyenne est de :  9.4\n",
      "la liste des négatifs est : [-2]\n",
      "la liste des positifs est : [15, 32, 2]\n"
     ]
    }
   ],
   "source": [
    "nombre = 2023\n",
    "LP = []\n",
    "LN = []\n",
    "compteur=0\n",
    "somme=0\n",
    "while nombre !=0:\n",
    "    nombre=int(input(\"Entrer un nombre entier entre -100 et 100 : \"))\n",
    "    if -100 <= nombre <= 100:\n",
    "        if nombre < 0:\n",
    "            LN.append(nombre)\n",
    "        if nombre > 0:\n",
    "            LP.append(nombre)\n",
    "        compteur=compteur+1\n",
    "        somme=somme+nombre\n",
    "        \n",
    "print(\"le nombre d'entiers négatifs est :\",len(LN))\n",
    "print(\"le nombre d'entiers positifs est :\", len(LP))\n",
    "if compteur != 0:\n",
    "    print(\"la somme des nombres saisis est :\",somme)\n",
    "    print(\"la moyenne est de : \", round(somme/compteur,3))\n",
    "print(\"la liste des négatifs est :\" ,LN)\n",
    "print(\"la liste des positifs est :\" ,LP) "
   ]
  },
  {
   "cell_type": "markdown",
   "id": "b4e53cbd",
   "metadata": {},
   "source": [
    "b)\tSoient les listes suivantes :  t1 = [31,28, 31,30, 31, 30, 3I,31, 30, 31, 30, 31] <br>t2 = ['Janvier', 'Février', 'Mars', 'Avril', 'Mai', 'Juin', 'Juillet’, 'Août’, 'Septembre', 'Octobre', 'Novembre', 'Décembre'] <br> Écrire un petit programme qui crée une nouvelle liste t3, celle-ci devra contenir tous les éléments des deux listes en les alternant, de telle manière que chaque nom de mois soit suivi du nombre de jours correspondant : ['Janvier',31,'Février',28,'Mars',31, etc…]_"
   ]
  },
  {
   "cell_type": "code",
   "execution_count": 6,
   "id": "da599792",
   "metadata": {},
   "outputs": [],
   "source": [
    "t1 = [31,28, 31,30, 31, 30, 31,31, 30, 31, 30, 31]\n",
    "t2 = ['Janvier', 'Février', 'Mars', 'Avril', 'Mai', 'Juin', \"Juillet\",\"Août\", \"Septembre\",\"Octobre\", \"Novembre\",\"Décembre\" ]"
   ]
  },
  {
   "cell_type": "code",
   "execution_count": 8,
   "id": "43de181d",
   "metadata": {},
   "outputs": [
    {
     "name": "stdout",
     "output_type": "stream",
     "text": [
      "['Janvier', 31, 'Février', 28, 'Mars', 31, 'Avril', 30, 'Mai', 31, 'Juin', 30, 'Juillet', 31, 'Août', 31, 'Septembre', 30, 'Octobre', 31, 'Novembre', 30, 'Décembre', 31]\n"
     ]
    }
   ],
   "source": [
    "t3=[]\n",
    "for i in range(len(t1)):\n",
    "    t3.append(t2[i])\n",
    "    t3.append(t1[i])\n",
    "print(t3)\n",
    "    "
   ]
  },
  {
   "cell_type": "markdown",
   "id": "4f95088f",
   "metadata": {},
   "source": [
    "c) "
   ]
  },
  {
   "cell_type": "markdown",
   "id": "502aa204",
   "metadata": {},
   "source": [
    "<h3> Exercice 2 </h3>"
   ]
  },
  {
   "cell_type": "raw",
   "id": "17cb1f65",
   "metadata": {},
   "source": [
    "Lors d’un TP dont le but est de déterminer la relation entre la masse et le poids d'un objet, un groupe d’étudiants a obtenu les mesures suivantes.\t\n",
    "    masse (en kg)\t0.01\t0.05\t0.1\t    0.2\t   0.5\n",
    "\tPoids (en N)\t0.1\t     0.5\t0.95\t2.1\t    5\n",
    "a)\tCréer une liste « masse ›› contenant les valeurs du tableau de résultat. \n",
    "b)\tCréer une liste « poids ›› contenant les valeurs du tableau de résultat.\n",
    "c)\tÉcrire un programme permettant de calculer le rapport P/m pour chaque mesure et insérer les valeurs obtenues dans une liste nommée « rapport » \n",
    "d)\tDéfinir une fonction multiplier (Liste_Poids, K) qui multiplie chaque élément de la liste  «Liste-Poids » par le nombre K. \n",
    "e)\tDéﬁnir  une fonction Sup (Liste-Masse, M) qui renvoi la liste de masses supérieures strictement à M.\n",
    "f)\tDéfinir une fonction permettant de trier une liste par ordre croissant selon un algorithme de tri par sélection \n",
    "Rappel : Sur une liste de n éléments, le principe du tri par sélection est le suivant :\n",
    "•\tRechercher le plus petit élément de la liste et le changer avec l’élément d’indice 0 ; \n",
    "•\tRechercher le second plus petit élément de la liste et l’échanger avec l’élément d’indice 1 \n",
    "•\tContinuer de cette façon jusqu`à ce que la liste soit entièrement triée. \n"
   ]
  },
  {
   "cell_type": "code",
   "execution_count": 1,
   "id": "59b818cd",
   "metadata": {},
   "outputs": [],
   "source": [
    "masse=[0.01,0.05,0.1,0.2,0.5]"
   ]
  },
  {
   "cell_type": "code",
   "execution_count": 2,
   "id": "1c0baddd",
   "metadata": {},
   "outputs": [],
   "source": [
    "poids=[0.1,0.5,0.95,2.1,5]"
   ]
  },
  {
   "cell_type": "code",
   "execution_count": 25,
   "id": "338c286f",
   "metadata": {},
   "outputs": [
    {
     "name": "stdout",
     "output_type": "stream",
     "text": [
      "[0.1, 0.1, 0.095, 0.105, 0.1]\n"
     ]
    }
   ],
   "source": [
    "rapport=[round(poids[i]/masse[i],10) for i in range(len(poids))]\n",
    "print(rapport)\n",
    "                                           "
   ]
  },
  {
   "cell_type": "code",
   "execution_count": 5,
   "id": "27ed5a55",
   "metadata": {},
   "outputs": [
    {
     "name": "stdout",
     "output_type": "stream",
     "text": [
      "[0.001, 0.005, 0.0095, 0.021, 0.05]\n"
     ]
    }
   ],
   "source": [
    "def multiplier(Liste_Poids,K):\n",
    "    for i in range(len(Liste_Poids)):\n",
    "        Liste_Poids[i]=round(K*Liste_Poids[i],10)\n",
    "multiplier(poids,0.1)\n",
    "print(poids)"
   ]
  },
  {
   "cell_type": "code",
   "execution_count": 8,
   "id": "86fdf62c",
   "metadata": {},
   "outputs": [
    {
     "name": "stdout",
     "output_type": "stream",
     "text": [
      "[0.2, 0.5]\n"
     ]
    }
   ],
   "source": [
    "def sup(Liste_Masse,M):\n",
    "    L=[]\n",
    "    for m in Liste_Masse:\n",
    "        if m>M:\n",
    "            L.append(m)\n",
    "    return L\n",
    "\n",
    "print(sup(masse,0.1))\n"
   ]
  },
  {
   "cell_type": "code",
   "execution_count": 23,
   "id": "72cf4fe3",
   "metadata": {},
   "outputs": [
    {
     "name": "stdout",
     "output_type": "stream",
     "text": [
      "[2, 3, 4, 4, 5, 7, 8]\n"
     ]
    }
   ],
   "source": [
    "def tri_insertion(L):\n",
    "    for i in range(len(L)):  # i designe l'indice de 1er élement de la sous liste à traiter\n",
    "        # ligne 4,5,6,7 : recherche du minimum de la sous liste\n",
    "        imin = i # par défaut c'est le 1er elément qui est le minimum de la sous liste\n",
    "        for j in range(i,len(L)):  # parcours de la sous liste\n",
    "            if L[j] < L[imin]:\n",
    "                imin = j   \n",
    "                \n",
    "        L[i],L[imin]=L[imin],L[i] # échange des valeurs \n",
    "        \n",
    "test=[5,3,8,4,2,4,7]\n",
    "tri_insertion(test)\n",
    "print(test)\n",
    "        "
   ]
  },
  {
   "cell_type": "markdown",
   "id": "bb902b44",
   "metadata": {},
   "source": [
    "<h3> Exercice 3 </h3>"
   ]
  },
  {
   "cell_type": "markdown",
   "id": "77f8b133",
   "metadata": {},
   "source": [
    "a) Afficher chaque caractère d’une chaîne en utilisant une boucle For."
   ]
  },
  {
   "cell_type": "code",
   "execution_count": 2,
   "id": "1e9dc39b",
   "metadata": {},
   "outputs": [
    {
     "name": "stdout",
     "output_type": "stream",
     "text": [
      "#\ts\ta\tv\ta\tr\ty\t2\t0\t2\t3\t"
     ]
    }
   ],
   "source": [
    "chaine=\"#savary2023\"\n",
    "for c in chaine:\n",
    "    print(c,end=\"\\t\")  # tabulation entre chaque caractère"
   ]
  },
  {
   "cell_type": "markdown",
   "id": "d0b4b7a8",
   "metadata": {},
   "source": [
    "b) Écrire une fonction nbMots qui prend une chaîne de caractères et renvoie le nombre de mots dans la phrase.<br> Par exemple. nbMots(\"Bonjour comment ça va ?\") renverra 4. <br>Les mots sont simplement des blocs de caractères délimité par les espaces."
   ]
  },
  {
   "cell_type": "code",
   "execution_count": 14,
   "id": "13ac3c59",
   "metadata": {},
   "outputs": [],
   "source": [
    "def nbMots(chaine):\n",
    "    n=0\n",
    "    for i in range(len(chaine)-1):\n",
    "        if chaine[i] == \" \" and chaine[i+1] != \" \":\n",
    "            n=n+1\n",
    "    return n\n",
    "assert (nbMots(\"Bonjour comment ça va ?\")) == 4\n",
    "assert (nbMots(\"Bonjour     comment ça va ?\")) == 4 \n",
    "assert (nbMots(\"Très bien .\")) == 2"
   ]
  },
  {
   "cell_type": "markdown",
   "id": "ee1b84e9",
   "metadata": {},
   "source": [
    "c) Écrire une fonction nbreOcurrences(mot,x) qui prend en argument une chaîne de caractère mot et un caractère x et qui renvoie le nombre de fois où le caractère x est présent dans mot."
   ]
  },
  {
   "cell_type": "code",
   "execution_count": 15,
   "id": "157a456e",
   "metadata": {},
   "outputs": [],
   "source": [
    "def nbreOccurences(mot,x):\n",
    "    n=0\n",
    "    for c in mot:\n",
    "        if c==x:\n",
    "            n=n+1\n",
    "    return n\n",
    "\n",
    "assert nbreOccurences(\"bonjour\",\"o\")==2\n",
    "assert nbreOccurences(\"bonjour\",\"a\")==0"
   ]
  },
  {
   "cell_type": "markdown",
   "id": "7267efb7",
   "metadata": {},
   "source": [
    "d)\tDéfinir une fonction inverse(chaine) qui permet d\"inverser l’ordre des caractères d’une chaîne quelconque. La chaîne inversée sera renvoyée au programme appelant. "
   ]
  },
  {
   "cell_type": "code",
   "execution_count": 17,
   "id": "0025f1fb",
   "metadata": {},
   "outputs": [],
   "source": [
    "def inverse(chaine):\n",
    "    inv=\"\"\n",
    "    for c in chaine:\n",
    "        inv=c+inv\n",
    "    return inv\n",
    "\n",
    "assert inverse(\"vive nsi\")==\"isn eviv\""
   ]
  },
  {
   "cell_type": "markdown",
   "id": "bfb71000",
   "metadata": {},
   "source": [
    "<h3> Exercice 4 </h3>"
   ]
  },
  {
   "cell_type": "markdown",
   "id": "3b9c5ddb",
   "metadata": {},
   "source": [
    "<p> On considère le dictionnaire suivant dont les clés sont les noms des élèves et les valeurs des clés sont les moyennes générales obtenues en passant l’examen final. </p> \n",
    "Écrire un programme qui permet de partager le dictionnaire en trois sous dictionnaires : \n",
    "•\tEtudiantsAdmis dont les clés sont les étudiants_admis et les valeurs des clés sont les moyennes obtenues (moyenne supérieurs ou égales à 10). \n",
    "•\tEtudiantsSessionnaire dont les clés sont les etudiants_session et les valeurs des clés sont les moyennes obtenues entre 8 et 1O (10 non inclue) \n",
    "•\tEtudiantsAjournés dont les clés sont les etudiants_ajournes et les valeurs des clés sont les moyennes obtenues (moyenne inférieure à 8). \n"
   ]
  },
  {
   "cell_type": "code",
   "execution_count": 25,
   "id": "fc1ce471",
   "metadata": {},
   "outputs": [],
   "source": [
    "Etudiants = {\"etudiant_1\" : 13 , \"etudiant_2\" :17 ,\"etudiant_3\" : 9, \"etudiant_4\" : 15 , \"etudiant_5\" : 8, \n",
    "             \"etudiant_6\" : 14, \"etudiant_7\" : 16 , \"etudiant_8\" :12 ,\"etudiant_9\" :13, \"etudiant_10\" : 15,\"etudiant_11\" : 5} "
   ]
  },
  {
   "cell_type": "markdown",
   "id": "d80d5980",
   "metadata": {},
   "source": [
    "<p>Écrire un programme qui permet de partager le dictionnaire en trois sous dictionnaires : </p>\n",
    "<li> EtudiantsAdmis dont les clés sont les étudiants_admis et les valeurs des clés sont les moyennes obtenues (moyenne supérieurs ou égales à 10). </li>\n",
    "<li> EtudiantsSessionnaire dont les clés sont les etudiants_session et les valeurs des clés sont les moyennes obtenues entre 8 et 10 (10 non inclus) </li> \n",
    "<li> EtudiantsAjournés dont les clés sont les etudiants_ajournes et les valeurs des clés sont les moyennes obtenues (moyenne inférieure à 8). </li>"
   ]
  },
  {
   "cell_type": "code",
   "execution_count": 26,
   "id": "65f5e3ea",
   "metadata": {},
   "outputs": [
    {
     "name": "stdout",
     "output_type": "stream",
     "text": [
      "{'etudiant_1': 13, 'etudiant_2': 17, 'etudiant_4': 15, 'etudiant_6': 14, 'etudiant_7': 16, 'etudiant_8': 12, 'etudiant_9': 13, 'etudiant_10': 15}\n"
     ]
    }
   ],
   "source": [
    "etudiantsAdmis={ cle:valeur for cle,valeur in Etudiants.items() if valeur >=10 }\n",
    "print(etudiantsAdmis) "
   ]
  },
  {
   "cell_type": "code",
   "execution_count": 27,
   "id": "7161218c",
   "metadata": {},
   "outputs": [
    {
     "data": {
      "text/plain": [
       "{'etudiant_3': 9, 'etudiant_5': 8}"
      ]
     },
     "execution_count": 27,
     "metadata": {},
     "output_type": "execute_result"
    }
   ],
   "source": [
    "etudiantsSessionnaire = {c:Etudiants[c] for c in Etudiants.keys() if 8<=Etudiants[c] and Etudiants[c]<10 }\n",
    "etudiantsSessionnaire"
   ]
  },
  {
   "cell_type": "code",
   "execution_count": 28,
   "id": "c49be752",
   "metadata": {},
   "outputs": [
    {
     "data": {
      "text/plain": [
       "{'etudiant_11': 5}"
      ]
     },
     "execution_count": 28,
     "metadata": {},
     "output_type": "execute_result"
    }
   ],
   "source": [
    "EtudiantsAjournés={}\n",
    "for etud in Etudiants.keys():\n",
    "    if Etudiants[etud]<8:\n",
    "        EtudiantsAjournés[etud]=Etudiants[etud]\n",
    "EtudiantsAjournés"
   ]
  }
 ],
 "metadata": {
  "kernelspec": {
   "display_name": "Python 3 (ipykernel)",
   "language": "python",
   "name": "python3"
  },
  "language_info": {
   "codemirror_mode": {
    "name": "ipython",
    "version": 3
   },
   "file_extension": ".py",
   "mimetype": "text/x-python",
   "name": "python",
   "nbconvert_exporter": "python",
   "pygments_lexer": "ipython3",
   "version": "3.9.13"
  }
 },
 "nbformat": 4,
 "nbformat_minor": 5
}
