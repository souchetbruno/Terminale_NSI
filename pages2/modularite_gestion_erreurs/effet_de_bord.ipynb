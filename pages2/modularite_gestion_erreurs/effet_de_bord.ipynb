{
 "cells": [
  {
   "cell_type": "markdown",
   "id": "50c46913",
   "metadata": {},
   "source": [
    "<h1> Effets de bords </h1>"
   ]
  },
  {
   "cell_type": "markdown",
   "id": "1159f06e",
   "metadata": {},
   "source": [
    "<p> On appelle effet de bord la modification de valeurs référencées par des variables. Cela peut poser problème dans le cas de variables mutables, notamment lors de la copie d'une variable par affectation. En effet, lors d'une affectation du type b = a, ce n'est pas la valeur de \n",
    " qui est recopiée, mais son identifiant!</p>\n",
    "\n",
    "<h3> Cas des variables non mutables </h3>"
   ]
  },
  {
   "cell_type": "code",
   "execution_count": 6,
   "id": "d839ec50",
   "metadata": {},
   "outputs": [
    {
     "name": "stdout",
     "output_type": "stream",
     "text": [
      "4 \t 4\n",
      "2962154678672 \t 2962154678672\n",
      "2023 \t 4\n",
      "2962235674128 \t 2962154678672\n"
     ]
    }
   ],
   "source": [
    "a=4\n",
    "b=a\n",
    "print(a,\"\\t\",b)\n",
    "print(id(a),\"\\t\",id(b))\n",
    "a=2023\n",
    "print(a,\"\\t\",b)\n",
    "print(id(a),\"\\t\",id(b))"
   ]
  },
  {
   "cell_type": "markdown",
   "id": "28913ef6",
   "metadata": {},
   "source": [
    "<p> Comme les identifiants de a et b sont identiques, ils définissent la même plage mémoire pour les valeurs de ces deux variables. Autrement dit a et b ont la même valeur.</p>\n",
    "\n",
    "<p>Cependant, toute modification de la variable a via une affectation créera une autre plage mémoire avec un nouvel identifiant : la variable b ne sera donc pas modifiée !</p>"
   ]
  },
  {
   "cell_type": "markdown",
   "id": "d7fe9f40",
   "metadata": {},
   "source": [
    "<h3> Cas des variables mutables </h3>"
   ]
  },
  {
   "cell_type": "markdown",
   "id": "d784baa9",
   "metadata": {},
   "source": [
    "<p> Les variables mutables peuvent être modifiées par d'autres opérations qu'une affectation. or cela conserve l'identifiant ! <br>Par conséquent, pour une variable de type mutable, l'identifiant ainsi que la plage mémoire allouée à la valeur de cette variable peuvent rester inchangés, même lorsque l'on change la valeur de cette variable.</p>"
   ]
  },
  {
   "cell_type": "code",
   "execution_count": 9,
   "id": "a74201d6",
   "metadata": {},
   "outputs": [
    {
     "name": "stdout",
     "output_type": "stream",
     "text": [
      "[1, 2, 3, 4] \t [1, 2, 3, 4]\n",
      "2962236125888 \t 2962236125888\n",
      "[5, 2, 3, 4] \t [5, 2, 3, 4]\n",
      "2962236125888 \t 2962236125888\n"
     ]
    }
   ],
   "source": [
    "L1=[1,2,3,4]\n",
    "L2=L1\n",
    "print(L1,\"\\t\",L2)\n",
    "print(id(L1),\"\\t\",id(L2))\n",
    "L1[0]=5\n",
    "print(L1,\"\\t\",L2)\n",
    "print(id(L1),\"\\t\",id(L2))"
   ]
  },
  {
   "cell_type": "markdown",
   "id": "31a8b4d1",
   "metadata": {},
   "source": [
    "<p> Cette manière de procéder permet un gain de temps (copie rapide) et de mémoire(une seule plage mémoire pour deux variables).<br> Mais elle pose un problème technique : si le contenu de la plage mémoire de la valeur de L1 est modifié, cela entraine automatiquement la modification de la valeur de L2 puisqu'ils sont référencés par le même identifiant!</p>\n",
    "\n",
    "Pour le programmeur Python non averti, cet <u>effet de bord</u> peut provoquer une erreur de programmation difficile à élucider."
   ]
  },
  {
   "cell_type": "markdown",
   "id": "248d9eaa",
   "metadata": {},
   "source": [
    "<h4> On peut néanmoins copier une liste sans provoquer d'effet de bord en utilisant une deepcopy :</h4>"
   ]
  },
  {
   "cell_type": "code",
   "execution_count": 10,
   "id": "79ef2553",
   "metadata": {},
   "outputs": [
    {
     "name": "stdout",
     "output_type": "stream",
     "text": [
      "[1, 2, 3, 4] \t [1, 2, 3, 4]\n",
      "[5, 2, 3, 4] \t [1, 2, 3, 4]\n"
     ]
    }
   ],
   "source": [
    "from copy import deepcopy\n",
    "\n",
    "\n",
    "L1 = [1, 2, 3, 4]\n",
    "L2 = deepcopy(L1)\n",
    "print(L1, \"\\t\", L2)\n",
    "L1[0] = 5\n",
    "print(L1, \"\\t\", L2)\n"
   ]
  },
  {
   "cell_type": "markdown",
   "id": "2c892a77",
   "metadata": {},
   "source": [
    "<h3> En résumé </h3>On appelle effet de bord la modification de valeurs référencées par des variables. <br>Pour les éviter, le code intérieur d'une fonction ne doit pas modifier le code extérieur.<br> La copie de variables immutables ne pose pas de souci. Mais la copie de variables mutables (listes, dictionnaires...) provoque un effet de bord.<br> Il faut alors utiliser une copie \"profonde\"."
   ]
  },
  {
   "cell_type": "code",
   "execution_count": null,
   "id": "27756b50",
   "metadata": {},
   "outputs": [],
   "source": []
  }
 ],
 "metadata": {
  "kernelspec": {
   "display_name": "Python 3 (ipykernel)",
   "language": "python",
   "name": "python3"
  },
  "language_info": {
   "codemirror_mode": {
    "name": "ipython",
    "version": 3
   },
   "file_extension": ".py",
   "mimetype": "text/x-python",
   "name": "python",
   "nbconvert_exporter": "python",
   "pygments_lexer": "ipython3",
   "version": "3.9.7"
  }
 },
 "nbformat": 4,
 "nbformat_minor": 5
}
