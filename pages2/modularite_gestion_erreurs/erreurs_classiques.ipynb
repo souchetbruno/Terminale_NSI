{
 "cells": [
  {
   "cell_type": "markdown",
   "id": "300264a7",
   "metadata": {},
   "source": [
    "<center> <h1> Des erreurs classiques en python </h1></center>"
   ]
  },
  {
   "cell_type": "markdown",
   "id": "cbe5daa1",
   "metadata": {},
   "source": [
    "Ci-dessous, vous trouverez un certain nombre de cellules avec du code erroné. Il s'agit pour vous d'exécuter la cellule puis d'analyser le message d'erreur affiché afin de corriger le code.\n",
    "\n",
    "**ATTENTION : Recopier chacune des cellules ci-dessous avant de corriger le code (ceci afin de garder l'original intact !)**"
   ]
  },
  {
   "cell_type": "markdown",
   "id": "ed05c0cc",
   "metadata": {},
   "source": [
    "<h2 style=\"font-weight: bold;text-shadow 1px 1px 5px #ff8888; color: #861109\">1. Erreurs de syntaxe, indentations</h2><a name=\"1\"></a>\n",
    "    \n",
    "<div class=\"alert alert-info\">Les erreurs classiques sont :\n",
    "\n",
    "   - oubli d'un « deux-points » pour terminer une structure for, if, else, while, etc ;\n",
    "   - oubli d'un guillemet pour terminer une chaîne de caractères ;\n",
    "   - mauvaise orthographe d'un mot clé ;\n",
    "   - oubli de fermeture d'un type construit comme les tuples (les k-uplets en mathématiques).\n",
    "\n",
    "On les reconnait par l'exception <code style=\"color: #3366ff\">SyntaxError</code> levée par <code style=\"color: #3366ff\">Python</code> dans l'interpréteur.</div>\n",
    "<br>\n",
    "<div class=\"alert alert-info\">Les erreurs d'indentations classiques sont :\n",
    "    \n",
    "   - oubli du décalage pour une structure for, if, else, while, def, etc ;\n",
    "   - une mauvaise indentation ; soit il manque un ou plusieurs espace, soit il y en a un ou plusieurs en trop ;\n",
    "   - une indentation incohérente dans un bloc d'instructions.\n",
    "\n",
    "On les reconnait par l'exception <code style=\"color: #3366ff\">IndentationError</code> levée par <code style=\"color: #3366ff\">Python</code> dans l'interpréteur.</div>\n",
    "<br>\n",
    "<div class=\"alert alert-info\">Les erreurs classiques de nom sont :\n",
    "\n",
    "   - oubli de définir une variable ;\n",
    "   - une variable ou une instruction mal orthographiée.\n",
    "\n",
    "\n",
    "On les reconnait par l'exception <code style=\"color: #3366ff\">NameError</code> levée par <code style=\"color: #3366ff\">Python</code> dans l'interpréteur.</div>\n",
    "<br>\n",
    "\n",
    "\n",
    "<div class=\"alert alert-info\">Les erreurs classiques de type sont :\n",
    "\n",
    "   - une variable n'est pas compatible avec l'opération qu'on lui applique ;\n",
    "   - lors d'une opération entre deux variables, les deux types ne sont pas compatibles.\n",
    "\n",
    "\n",
    "On les reconnait par l'exception <code style=\"color: #3366ff\">TypeError</code> levée par <code style=\"color: #3366ff\">Python</code> dans l'interpréteur.</div>"
   ]
  },
  {
   "cell_type": "markdown",
   "id": "0f982d72",
   "metadata": {},
   "source": [
    "Exécuter les <code style=\"\n",
    "    color: #3366ff\">scripts </code> suivants puis corriger-les :\n",
    "    </div>"
   ]
  },
  {
   "cell_type": "code",
   "execution_count": null,
   "id": "efa09c9d",
   "metadata": {},
   "outputs": [],
   "source": [
    "# script 1\n",
    "\n",
    "for boucle in range(4)\n",
    "     print(boucle)"
   ]
  },
  {
   "cell_type": "code",
   "execution_count": null,
   "id": "4f48d374",
   "metadata": {},
   "outputs": [],
   "source": [
    "# script 2\n",
    "\n",
    "a = 2\n",
    "if a == 2\n",
    "     print(a)"
   ]
  },
  {
   "cell_type": "code",
   "execution_count": null,
   "id": "3f46d4b0",
   "metadata": {},
   "outputs": [],
   "source": [
    "# script 3\n",
    "\n",
    "a = 2\n",
    "if a = 2:\n",
    "     print(a)"
   ]
  },
  {
   "cell_type": "code",
   "execution_count": null,
   "id": "b7ac6fa2",
   "metadata": {},
   "outputs": [],
   "source": [
    "# script 4\n",
    "\n",
    "a = 5\n",
    "b = 6\n",
    "\n",
    "if a < b:\n",
    "        print(\"a est le plus petit\")\n",
    "    else:\n",
    "        print(\"b est le plus petit\")"
   ]
  },
  {
   "cell_type": "code",
   "execution_count": null,
   "id": "31236d92",
   "metadata": {},
   "outputs": [],
   "source": [
    "# script 5\n",
    "\n",
    "Nombre = 2\n",
    "print(Nombre)\n",
    "Nombre = Nobre + 1"
   ]
  },
  {
   "cell_type": "code",
   "execution_count": null,
   "id": "a8b37175",
   "metadata": {},
   "outputs": [],
   "source": [
    "# script 6\n",
    "\n",
    "print(Nombre)\n",
    "Nombre = Nombre + 1"
   ]
  },
  {
   "cell_type": "code",
   "execution_count": null,
   "id": "b5555b6b",
   "metadata": {},
   "outputs": [],
   "source": [
    "# script 7\n",
    "\n",
    "a = \"5\"\n",
    "b = a**2\n",
    "c = a + b"
   ]
  },
  {
   "cell_type": "markdown",
   "id": "ca2ce9f2",
   "metadata": {},
   "source": [
    "\n",
    "<h2 style=\"font-weight: bold;text-shadow 1px 1px 5px #ff8888; color: #861109\">2. Typage dynamique</h2><a name=\"1\"></a>\n",
    "\n",
    "<br>\n",
    "Python est un langage à typage dynamique : il n'impose pas que le type des variables soit défini. Le type est\n",
    "alors déterminé à la volée au moment de l'interprétation du code. On peut donc à loisir changer le type de donnée d'une variable. Cela peut poser problème si on n'est pas prudent.\n",
    "\n",
    "```python\n",
    "a = 'Hello world'\n",
    "print(type(a))\n",
    "a = 12\n",
    "print(type(a))\n",
    "```\n",
    "\n",
    "D'autres langages, tels le C, Java ou Pascal sont à typage statique, donc nettement moins permissifs que Python.\n"
   ]
  },
  {
   "cell_type": "markdown",
   "id": "3e6c823d",
   "metadata": {},
   "source": [
    "Corriger le programme ci-dessous :"
   ]
  },
  {
   "cell_type": "code",
   "execution_count": null,
   "id": "b6e080dd",
   "metadata": {},
   "outputs": [],
   "source": [
    "from random import randint\n",
    "\n",
    "\n",
    "def fonc(n, liste_notes):\n",
    "    somme = 0\n",
    "    for elt in liste_notes :\n",
    "        somme = somme + elt\n",
    "    return somme/n\n",
    "\n",
    "nombre = 10\n",
    "x=\"Anatole\"\n",
    "liste_notes = []\n",
    "liste_notes = [randint(0, 20) for i in range(nombre)]\n",
    "print(liste_notes, \"\\t\", fonc(x, liste_notes))"
   ]
  },
  {
   "cell_type": "markdown",
   "id": "549be46e",
   "metadata": {},
   "source": [
    "Code corrigé :"
   ]
  },
  {
   "cell_type": "code",
   "execution_count": null,
   "id": "930d3ba1",
   "metadata": {},
   "outputs": [],
   "source": []
  },
  {
   "cell_type": "markdown",
   "id": "87932fef",
   "metadata": {},
   "source": [
    "<h2 style=\"font-weight: bold;text-shadow 1px 1px 5px #ff8888; color: #861109\">3. Débordements</h2><a name=\"1\"></a>\n",
    "<br>\n",
    "Il existe deux sortes de débordement :\n",
    "    \n",
    "- On peut constater un débordement négatif sur une liste si on appelle la méthode  .pop()  sans s’assurer au préalable que la liste contient au moins un élément. \n",
    "- On sera confronté à un débordement positif lorsqu’on parcourt une liste au-delà de son dernier élément.\n",
    "\n",
    "**Modifiez les programmes ci-dessous pour empêcher tout débordement.**"
   ]
  },
  {
   "cell_type": "markdown",
   "id": "81c9cd0e",
   "metadata": {},
   "source": [
    "Programme 1"
   ]
  },
  {
   "cell_type": "code",
   "execution_count": null,
   "id": "c9333721",
   "metadata": {},
   "outputs": [],
   "source": [
    "L1 = [2, 3, 4]\n",
    "print(L1)\n",
    "for i in range(4):\n",
    "    L1.pop()\n",
    "print(L1)"
   ]
  },
  {
   "cell_type": "markdown",
   "id": "dc9a49f1",
   "metadata": {},
   "source": [
    "Code corrigé :"
   ]
  },
  {
   "cell_type": "code",
   "execution_count": null,
   "id": "dfba3248",
   "metadata": {},
   "outputs": [],
   "source": []
  },
  {
   "cell_type": "markdown",
   "id": "17b30aca",
   "metadata": {},
   "source": [
    "Programme 2"
   ]
  },
  {
   "cell_type": "code",
   "execution_count": null,
   "id": "58bf7014",
   "metadata": {},
   "outputs": [],
   "source": [
    "L1 = [2, 3, 4, 5, 6]\n",
    "for i in range(6):\n",
    "    print(L1[i], end=' , ')"
   ]
  },
  {
   "cell_type": "markdown",
   "id": "239c723b",
   "metadata": {},
   "source": [
    "Code corrigé :"
   ]
  },
  {
   "cell_type": "code",
   "execution_count": null,
   "id": "99bcf3bf",
   "metadata": {},
   "outputs": [],
   "source": []
  },
  {
   "cell_type": "markdown",
   "id": "229378b7",
   "metadata": {},
   "source": [
    " \n",
    "<h2 style=\"font-weight: bold;text-shadow 1px 1px 5px #ff8888; color: #861109\">4. Comparaisons et calculs entre flottants</h2><a name=\"1\"></a>\n",
    "<br>\n",
    "Certaines valeurs réelles sont seulement des valeurs approchées. \n",
    "\n",
    "Exemple pour la valeur 0.3 affichée avec un très grand nombre de décimales : \n",
    "\n",
    "```python\n",
    "print(\"{:.80f}\".format(0.3))\n",
    "```\n",
    "*donne : 0.29999999999999998889776975374843459576368331909179687500000000000000000000000000*\n",
    "\n",
    "Les tests d’égalité stricte sont donc à éviter entre réels. Il faudra privilégier des comparaisons de valeurs arrondies (instruction round) ou tolérer un faible écart.\n",
    "\n",
    "- Afficher les deux nombres x et y avec une cinquantaine de décimales puis transformer le test d'égalité stricte en un test de comparaison d'arrondis en utilisant la fonction round (help() est votre amie...). \n",
    "- Ensuite, vous écrirez un test de comparaison tolérant un faible écart (ex : ecart_tolere = 0.01)"
   ]
  },
  {
   "cell_type": "code",
   "execution_count": null,
   "id": "24576ec8",
   "metadata": {},
   "outputs": [],
   "source": [
    "x = 0.1 + 0.1 + 0.1\n",
    "y = 0.3\n",
    "\n",
    "print(x == y)"
   ]
  },
  {
   "cell_type": "markdown",
   "id": "fa395bc7",
   "metadata": {},
   "source": [
    "Code corrigé :"
   ]
  },
  {
   "cell_type": "code",
   "execution_count": null,
   "id": "e733d10a",
   "metadata": {},
   "outputs": [],
   "source": []
  }
 ],
 "metadata": {
  "kernelspec": {
   "display_name": "Python 3 (ipykernel)",
   "language": "python",
   "name": "python3"
  },
  "language_info": {
   "codemirror_mode": {
    "name": "ipython",
    "version": 3
   },
   "file_extension": ".py",
   "mimetype": "text/x-python",
   "name": "python",
   "nbconvert_exporter": "python",
   "pygments_lexer": "ipython3",
   "version": "3.9.7"
  }
 },
 "nbformat": 4,
 "nbformat_minor": 5
}
