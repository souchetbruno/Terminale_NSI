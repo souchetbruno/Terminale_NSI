{
 "cells": [
  {
   "attachments": {},
   "cell_type": "markdown",
   "metadata": {},
   "source": [
    "<h1> Implémentation d'un arbre binaire avec une classe </h1>"
   ]
  },
  {
   "attachments": {},
   "cell_type": "markdown",
   "metadata": {},
   "source": [
    "On pourrait définir deux classes pour implémenter la structure d’un arbre binaire : <br>\n",
    "\n",
    "\n",
    "**class Noeud** \n",
    "   \n",
    "    def __init__(self, etiquette, gauche=None, droit=None):\n",
    "        self.etiquette = etiquette\n",
    "        self.gauche = gauche\n",
    "        self.droit = droit\n",
    "\n",
    "**class ArbreBinaire**:\n",
    "    \n",
    "    def __init__(self,racine):\n",
    "        # racine est soit None (arbre vide) soit un objet de la classe noeud\n",
    "        self.racine=racine "
   ]
  },
  {
   "attachments": {},
   "cell_type": "markdown",
   "metadata": {},
   "source": [
    "En pratique, on utilisera généralement l’implémentation objet avec une seule classe, même si elle pose le problème de l’arbre vide qui n’est pas un arbre. <br>\n",
    "Une implémentation classique consiste à représenter chaque noeud comme un objet d'une classe Noeud.<br>\n",
    "La construction d'un arbre s'effectue alors avec des noeuds ayant soit un seul argument (cas des feuilles), soit trois (cas général).<br>\n",
    "Si on doit rajouter des méthodes sur les arbres incluant le cas de l’arbre vide, on choisira l’implémentation\n",
    "avec deux classes."
   ]
  },
  {
   "cell_type": "code",
   "execution_count": 23,
   "metadata": {},
   "outputs": [],
   "source": [
    "class Noeud:\n",
    "    def __init__(self, valeur=None, gauche = None, droit = None):\n",
    "        self.valeur = valeur # étiquette du noeud\n",
    "        self.gauche = gauche # sous arbre gauche\n",
    "        self.droit = droit # sous arbre droit\n",
    "    \n",
    "    \n",
    "    # une représentation possible\n",
    "    def __repr__(self):\n",
    "        ch = str(self.valeur)\n",
    "        if self.gauche or self.droit:\n",
    "            ch = ch + '-(' + str(self.gauche) + ',' + str(self.droit) + ')'\n",
    "        return ch \n",
    "        \n",
    "    def fils_gauche(self):\n",
    "        return self.gauche\n",
    "    \n",
    "    def est_feuille(self):\n",
    "        return self.gauche==None and self.droit==None"
   ]
  },
  {
   "attachments": {},
   "cell_type": "markdown",
   "metadata": {},
   "source": [
    "la construction d'un arbre se fait alors par la définition de noeud imbriqués :"
   ]
  },
  {
   "cell_type": "code",
   "execution_count": 24,
   "metadata": {},
   "outputs": [],
   "source": [
    "n9 = Noeud(9)\n",
    "n7 = Noeud(7, None, n9)\n",
    "n13 = Noeud(13)\n",
    "n11 = Noeud(11,n7, n13)\n",
    "n3 = Noeud(3)\n",
    "n2 = Noeud(2, None, n3)\n",
    "arbre1 = Noeud(5, n2, n11) # c'est le noeud racine"
   ]
  },
  {
   "attachments": {},
   "cell_type": "markdown",
   "metadata": {},
   "source": [
    "ou"
   ]
  },
  {
   "cell_type": "code",
   "execution_count": 25,
   "metadata": {},
   "outputs": [],
   "source": [
    "arbre2= Noeud(5,Noeud(2,None,Noeud(3)),Noeud(11,Noeud(7,None,Noeud(9)),Noeud(13)))"
   ]
  },
  {
   "cell_type": "code",
   "execution_count": 26,
   "metadata": {},
   "outputs": [
    {
     "name": "stdout",
     "output_type": "stream",
     "text": [
      "5-(2-(None,3),11-(7-(None,9),13))\n",
      "5-(2-(None,3),11-(7-(None,9),13))\n",
      "None\n"
     ]
    }
   ],
   "source": [
    "print(arbre1)\n",
    "print(arbre2)\n",
    "arbrevide=Noeud()\n",
    "print(arbrevide)"
   ]
  },
  {
   "attachments": {},
   "cell_type": "markdown",
   "metadata": {},
   "source": [
    "A. Complèter la classe Noeud par les méthodes puis les tester : \n",
    "<div style=\"margin-left:50px\">\n",
    "<li> fils_gauche et fils droit qui renvoie les sous arbre gauche et droit </li>\n",
    "<li> est_feuille qui renvoie un booleen si le noeud est une feuille </li>\n",
    "<li> est_vide qui renvoie un boleen si l'arbre est vide </li>\n",
    "</div>"
   ]
  },
  {
   "cell_type": "code",
   "execution_count": 36,
   "metadata": {},
   "outputs": [
    {
     "data": {
      "text/plain": [
       "False"
      ]
     },
     "execution_count": 36,
     "metadata": {},
     "output_type": "execute_result"
    }
   ],
   "source": [
    "# jeux de tests\n",
    "n7.est_feuille()"
   ]
  },
  {
   "attachments": {},
   "cell_type": "markdown",
   "metadata": {},
   "source": [
    "B. Ecrire le code des fonctions hauteur et taille (on choisira -1 pour la hauteur un arbre vide et 0 pour un arbre avec un seul noeud)"
   ]
  },
  {
   "cell_type": "code",
   "execution_count": 28,
   "metadata": {},
   "outputs": [],
   "source": [
    "def hauteur(A):\n",
    "    if A is None:\n",
    "        return -1\n",
    "    else:\n",
    "        return 1+max(hauteur(A.gauche),hauteur(A.droit))\n",
    " "
   ]
  },
  {
   "cell_type": "code",
   "execution_count": 29,
   "metadata": {},
   "outputs": [],
   "source": [
    "def taille(A):\n",
    "    if A is None:\n",
    "        return 0\n",
    "    else:\n",
    "        return 1+ taille(A.gauche)+taille(A.droit)"
   ]
  },
  {
   "cell_type": "code",
   "execution_count": 30,
   "metadata": {},
   "outputs": [
    {
     "name": "stdout",
     "output_type": "stream",
     "text": [
      "3\n",
      "7\n"
     ]
    }
   ],
   "source": [
    "# jeux de tests\n",
    "print(hauteur(arbre1))\n",
    "print(taille(arbre1))"
   ]
  },
  {
   "attachments": {},
   "cell_type": "markdown",
   "metadata": {},
   "source": [
    "C . Ecrire une fonction qui compte le nombre de feuilles d'un arbre :"
   ]
  },
  {
   "cell_type": "code",
   "execution_count": 39,
   "metadata": {},
   "outputs": [],
   "source": [
    "def nb_feuilles(A):\n",
    "    if A is None:\n",
    "        return 0\n",
    "    elif A.est_feuille():\n",
    "        return 1\n",
    "    return nb_feuilles(A.gauche)+nb_feuilles(A.droit)"
   ]
  },
  {
   "cell_type": "code",
   "execution_count": 42,
   "metadata": {},
   "outputs": [
    {
     "data": {
      "text/plain": [
       "3"
      ]
     },
     "execution_count": 42,
     "metadata": {},
     "output_type": "execute_result"
    }
   ],
   "source": [
    "nb_feuilles(arbre1)"
   ]
  },
  {
   "attachments": {},
   "cell_type": "markdown",
   "metadata": {},
   "source": [
    "D. Ecrire une fonction booléenne récursive qui recherche si une valeur v est présente dans un arbre A"
   ]
  },
  {
   "cell_type": "code",
   "execution_count": null,
   "metadata": {},
   "outputs": [],
   "source": [
    "def recherche(A,v):\n",
    "    if A is None:\n",
    "        return False\n",
    "    elif A.valeur==v:\n",
    "            return True\n",
    "    else:\n",
    "        return recherche(A.gauche,v) or recherche(A.droit,v)"
   ]
  },
  {
   "cell_type": "code",
   "execution_count": null,
   "metadata": {},
   "outputs": [
    {
     "data": {
      "text/plain": [
       "False"
      ]
     },
     "execution_count": 16,
     "metadata": {},
     "output_type": "execute_result"
    }
   ],
   "source": [
    "recherche(arbre1,15)"
   ]
  },
  {
   "attachments": {},
   "cell_type": "markdown",
   "metadata": {},
   "source": [
    "E. Réprésentation d'un arbre"
   ]
  },
  {
   "cell_type": "code",
   "execution_count": null,
   "metadata": {},
   "outputs": [],
   "source": [
    "import networkx as nx\n",
    "import matplotlib.pyplot as plt\n",
    "\n",
    "def repr_graph(arbre, size=(4,3), null_node=False):\n",
    "    \"\"\"\n",
    "    size : tuple de 2 entiers. Si size est int -> (size, size)\n",
    "    null_node : si True, trace les liaisons vers les sous-arbres vides\n",
    "    \"\"\"\n",
    "    def parkour(arbre, noeuds, branches, labels, positions, profondeur, pos_courante, pos_parent, null_node):\n",
    "        if arbre != None:\n",
    "            noeuds[0].append(pos_courante)\n",
    "            positions[pos_courante] = (pos_courante, profondeur)\n",
    "            profondeur -= 1\n",
    "            labels[pos_courante] = str(arbre.valeur)\n",
    "            branches[0].append((pos_courante, pos_parent))\n",
    "            pos_gauche = pos_courante - 2**profondeur\n",
    "            parkour(arbre.gauche, noeuds, branches, labels, positions, profondeur, pos_gauche, pos_courante, null_node)\n",
    "            pos_droit = pos_courante + 2**profondeur\n",
    "            parkour(arbre.droit, noeuds, branches, labels, positions, profondeur, pos_droit, pos_courante, null_node)\n",
    "        elif null_node:\n",
    "            noeuds[1].append(pos_courante)\n",
    "            positions[pos_courante] = (pos_courante, profondeur)\n",
    "            branches[1].append((pos_courante, pos_parent))\n",
    "    \n",
    "    \n",
    "    if arbre ==None:\n",
    "        return\n",
    "    \n",
    "    branches = [[]]\n",
    "    profondeur = hauteur(arbre)\n",
    "    pos_courante = 2**profondeur\n",
    "    noeuds = [[pos_courante]]\n",
    "    positions = {pos_courante: (pos_courante, profondeur)} \n",
    "    labels = {pos_courante: str(arbre.valeur)}\n",
    "    \n",
    "    if null_node:\n",
    "        branches.append([])\n",
    "        noeuds.append([])\n",
    "        \n",
    "    profondeur -= 1\n",
    "    parkour(arbre.gauche, noeuds, branches, labels, positions, profondeur, pos_courante - 2**profondeur, pos_courante, null_node)\n",
    "    parkour(arbre.droit, noeuds, branches, labels, positions, profondeur, pos_courante + 2**profondeur, pos_courante, null_node) \n",
    "\n",
    "    mon_arbre = nx.Graph()\n",
    "    \n",
    "    if type(size) == int:\n",
    "        size = (size, size)    \n",
    "    plt.figure(figsize=size)\n",
    "    \n",
    "    nx.draw_networkx_nodes(mon_arbre, positions, nodelist=noeuds[0], node_color=\"white\", node_size=550, edgecolors=\"blue\")\n",
    "    nx.draw_networkx_edges(mon_arbre, positions, edgelist=branches[0], edge_color=\"black\", width=2)\n",
    "    nx.draw_networkx_labels(mon_arbre, positions, labels)\n",
    "\n",
    "    if null_node:\n",
    "        nx.draw_networkx_nodes(mon_arbre, positions, nodelist=noeuds[1], node_color=\"white\", node_size=50, edgecolors=\"grey\")\n",
    "        nx.draw_networkx_edges(mon_arbre, positions, edgelist=branches[1], edge_color=\"grey\", width=1)\n",
    "\n",
    "    ax = plt.gca()\n",
    "    ax.margins(0.1)\n",
    "    plt.axis(\"off\")\n",
    "    plt.show()\n",
    "    plt.close()"
   ]
  },
  {
   "cell_type": "code",
   "execution_count": null,
   "metadata": {},
   "outputs": [
    {
     "data": {
      "image/png": "[encoded data removed]",
      "text/plain": [
       "<Figure size 288x216 with 1 Axes>"
      ]
     },
     "metadata": {},
     "output_type": "display_data"
    }
   ],
   "source": [
    "repr_graph(arbre1,(4,3),False)"
   ]
  },
  {
   "cell_type": "code",
   "execution_count": null,
   "metadata": {},
   "outputs": [
    {
     "data": {
      "image/png": "[encoded data removed]",
      "text/plain": [
       "<Figure size 288x216 with 1 Axes>"
      ]
     },
     "metadata": {},
     "output_type": "display_data"
    }
   ],
   "source": [
    "repr_graph(n11,(4,3),False)"
   ]
  }
 ],
 "metadata": {
  "kernelspec": {
   "display_name": "Python 3",
   "language": "python",
   "name": "python3"
  },
  "language_info": {
   "codemirror_mode": {
    "name": "ipython",
    "version": 3
   },
   "file_extension": ".py",
   "mimetype": "text/x-python",
   "name": "python",
   "nbconvert_exporter": "python",
   "pygments_lexer": "ipython3",
   "version": "3.9.13"
  },
  "orig_nbformat": 4,
  "vscode": {
   "interpreter": {
    "hash": "970a2a4939579a4c22872227820a264ec023ee5692739211cbaca24386397975"
   }
  }
 },
 "nbformat": 4,
 "nbformat_minor": 2
}
