{
 "cells": [
  {
   "cell_type": "markdown",
   "metadata": {},
   "source": [
    "<h1> Implémentation des Arbres binaires avec des tuples </h1>"
   ]
  },
  {
   "cell_type": "markdown",
   "metadata": {},
   "source": [
    "<h2>  1.  Représentation avec un seul tuple  </h2>"
   ]
  },
  {
   "cell_type": "markdown",
   "metadata": {},
   "source": [
    "<p> Considérons l'arbre binaire suivant:\n",
    "\n",
    "<img src =\" data:image/png;base64,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\" width=\"200px\" height=\"200px\"> </p>\n",
    "\n",
    "<p> On représenta l'arbre avec un tuple :</p>\n",
    "\n",
    "arbre = ('1', '2', '3', '4', '5', None, '6', None, None, '7', '8', None, None, '9', None, None, None, None, None, None, None, None, None, None, None, None, None, None, None, None, None)"
   ]
  },
  {
   "cell_type": "markdown",
   "metadata": {},
   "source": [
    "Chaque noeud se repère par son indice $n$ dans la liste,\n",
    "* son fils gauche se trouvant alors à l’indice : $2n+ 1$ \n",
    "* son fils droit à l’indice : $2n+ 2$.\n",
    "\n",
    "&#x2784; est à l’indice 4,  son fils gauche se trouve alors à l’indice 9 et son fils droit à l’indice 10.\n",
    "\n",
    "<h3> Exercice 1 : </h3>\n",
    "\n",
    "***Écrire une fonction qui retourne vrai si l'arbre est vide***"
   ]
  },
  {
   "cell_type": "code",
   "execution_count": null,
   "metadata": {},
   "outputs": [],
   "source": [
    "arbre1 = ('1', '2', '3', '4', '5', None, '6', None, None, '7', '8', None, None, '9', None, None, None, None, None, None, None, None, None, None, None, None, None, None, None, None, None)\n",
    "arbre2=()"
   ]
  },
  {
   "cell_type": "code",
   "execution_count": null,
   "metadata": {},
   "outputs": [],
   "source": [
    "def est_vide(arbre):\n",
    "    pass\n",
    "\n",
    "print(est_vide(arbre1))\n",
    "print(est_vide(arbre2))"
   ]
  },
  {
   "cell_type": "markdown",
   "metadata": {},
   "source": [
    "***Compléter la fonction qui renvoie les enfants d’un noeud.***"
   ]
  },
  {
   "cell_type": "code",
   "execution_count": null,
   "metadata": {},
   "outputs": [],
   "source": [
    "def enfant(arbre,noeud):\n",
    "    if noeud in arbre:\n",
    "        for i in range(len(arbre)):\n",
    "            if arbre[i] == noeud:\n",
    "                return ......\n",
    "            \n",
    "print(enfant(arbre1,\"6\"))"
   ]
  },
  {
   "cell_type": "markdown",
   "metadata": {},
   "source": [
    "***Écrire deux fonctions qui renvoient le fils gauche d’un noeud et son homologue le fils droit s’ils existent.***\n"
   ]
  },
  {
   "cell_type": "code",
   "execution_count": null,
   "metadata": {},
   "outputs": [],
   "source": [
    "def fils_g(arbre,noeud):\n",
    "    if noeud in arbre:\n",
    "        for i in range(len(arbre)):\n",
    "            pass\n",
    "            \n",
    "def fils_d(arbre,noeud):\n",
    "    if noeud in arbre:\n",
    "        for i in range(len(arbre)):\n",
    "            pass            \n",
    "\n",
    "print(fils_g(arbre1,\"6\"))\n",
    "print(fils_d(arbre1,\"3\"))"
   ]
  },
  {
   "cell_type": "markdown",
   "metadata": {},
   "source": [
    "***Écrire une fonction qui retourne vrai si le noeud est la racine de l’arbre.***"
   ]
  },
  {
   "cell_type": "code",
   "execution_count": null,
   "metadata": {},
   "outputs": [],
   "source": [
    "def est_racine(arbre,noeud):\n",
    "    if noeud in arbre:\n",
    "        pass\n",
    "print(est_racine(arbre1,\"1\"))"
   ]
  },
  {
   "cell_type": "markdown",
   "metadata": {},
   "source": [
    "***Écrire une fonction qui retourne vrai si le noeud est une feuille.***"
   ]
  },
  {
   "cell_type": "code",
   "execution_count": null,
   "metadata": {},
   "outputs": [],
   "source": [
    "def est_feuille(arbre,noeud):\n",
    "    if noeud in arbre:\n",
    "        for i in range(len(arbre)):\n",
    "            pass\n",
    "print(est_feuille(arbre1,\"7\"))"
   ]
  },
  {
   "cell_type": "markdown",
   "metadata": {},
   "source": [
    "<h2> 2. Représentation avec un tuple de tuples  </h2>\n",
    "\n",
    "\n",
    "* Chaque noeud est un tuple (valeur, fg , fd )\n",
    "\n",
    "* fg et fd sont eux-mêmes des tuples éventuellement vide s'il n'éxiste pas\n",
    "\n",
    "Ci-dessous voici la représentation de notre arbre :"
   ]
  },
  {
   "cell_type": "code",
   "execution_count": 1,
   "metadata": {},
   "outputs": [
    {
     "name": "stdout",
     "output_type": "stream",
     "text": [
      "('1', ('2', ('4', (), ()), ('5', ('7', (), ()), ('8', (), ()))), ('3', (), ('6', ('9', (), ()), ())))\n"
     ]
    }
   ],
   "source": [
    "sept=(\"7\",(),())\n",
    "huit=(\"8\",(),())\n",
    "neuf=(\"9\",(),())\n",
    "six=(\"6\",neuf,())\n",
    "cinq=(\"5\",sept,huit)\n",
    "quatre=(\"4\",(),())\n",
    "trois=(\"3\",(),six)\n",
    "deux=(\"2\",quatre,cinq)\n",
    "arbre1=(\"1\",deux,trois)\n",
    "print(arbre1)"
   ]
  },
  {
   "cell_type": "markdown",
   "metadata": {},
   "source": [
    "Dans cette situation on accède directement aux noeuds, ce qui permet d'écrire la fonction suivante:"
   ]
  },
  {
   "cell_type": "code",
   "execution_count": 2,
   "metadata": {},
   "outputs": [
    {
     "name": "stdout",
     "output_type": "stream",
     "text": [
      "False\n",
      "True\n"
     ]
    }
   ],
   "source": [
    "def est_feuille(noeud):\n",
    "    return noeud[1] == () and noeud[2] == ()\n",
    "\n",
    "print(est_feuille(trois))\n",
    "print(est_feuille(sept))"
   ]
  },
  {
   "attachments": {},
   "cell_type": "markdown",
   "metadata": {},
   "source": [
    "<h3> La hauteur de l'arbre: </h3>\n",
    "\n",
    "<h3> Exercice 2 : </h3> \n",
    "\n",
    "l'algorithme récursif du calcul de la hauteur de l'arbre est :\n",
    "\n",
    "<ul>\n",
    "    <li> Si l'arbre et vide</li>\n",
    "    <ul><li> renvoyer -1</li></ul>\n",
    "    <li> Sinon</li>\n",
    "    <ul>\n",
    "        <li> h1 = 1 + hauteur(fils_gauche)</li>\n",
    "        <li> h2 = 1 + hauteur(fils_droit)</li>\n",
    "        <li> renvoyer max(h1,h2)</li></ul>\n",
    "    </ul>\n",
    "\n",
    "attention : dans certains énoncés, la hauteur de l'arbre vide est 0 et non -1 !\n",
    "\n",
    "***Écrire la fonction hauteur***"
   ]
  },
  {
   "cell_type": "code",
   "execution_count": null,
   "metadata": {},
   "outputs": [],
   "source": [
    "def hauteur(arbre):\n",
    "    pass\n",
    "\n",
    "print(hauteur(arbre1))"
   ]
  },
  {
   "cell_type": "markdown",
   "metadata": {},
   "source": [
    "<h5> Ci-dessous un programme qui permet d'afficher l'arbre : </h5>\n",
    "\n",
    "<i> nécessite d'avoir réussi la fonction hauteur </i>"
   ]
  },
  {
   "cell_type": "code",
   "execution_count": null,
   "metadata": {},
   "outputs": [],
   "source": [
    "import networkx as nx\n",
    "import matplotlib.pyplot as plt\n",
    "\n",
    "def repr_graph(arbre, size=(8,8), null_node=False):\n",
    "    \"\"\"\n",
    "    size : tuple de 2 entiers. Si size est int -> (size, size)\n",
    "    null_node : si True, trace les liaisons vers les sous-arbres vides\n",
    "    \"\"\"\n",
    "    def parkour(arbre, noeuds, branches, labels, positions, profondeur, pos_courante, pos_parent, null_node):\n",
    "        if arbre !=():\n",
    "            noeuds[0].append(pos_courante)\n",
    "            positions[pos_courante] = (pos_courante, profondeur)\n",
    "            profondeur -= 1\n",
    "            labels[pos_courante] = str(arbre[0])\n",
    "            branches[0].append((pos_courante, pos_parent))\n",
    "            pos_gauche = pos_courante - 2**profondeur\n",
    "            parkour(arbre[1], noeuds, branches, labels, positions, profondeur, pos_gauche, pos_courante, null_node)\n",
    "            pos_droit = pos_courante + 2**profondeur\n",
    "            parkour(arbre[2], noeuds, branches, labels, positions, profondeur, pos_droit, pos_courante, null_node)\n",
    "        elif null_node:\n",
    "            noeuds[1].append(pos_courante)\n",
    "            positions[pos_courante] = (pos_courante, profondeur)\n",
    "            branches[1].append((pos_courante, pos_parent))\n",
    "    \n",
    "    \n",
    "    if arbre ==():\n",
    "        return\n",
    "    \n",
    "    branches = [[]]\n",
    "    profondeur = hauteur(arbre)\n",
    "    pos_courante = 2**profondeur\n",
    "    noeuds = [[pos_courante]]\n",
    "    positions = {pos_courante: (pos_courante, profondeur)} \n",
    "    labels = {pos_courante: str(arbre[0])}\n",
    "    \n",
    "    if null_node:\n",
    "        branches.append([])\n",
    "        noeuds.append([])\n",
    "        \n",
    "    profondeur -= 1\n",
    "    parkour(arbre[1], noeuds, branches, labels, positions, profondeur, pos_courante - 2**profondeur, pos_courante, null_node)\n",
    "    parkour(arbre[2], noeuds, branches, labels, positions, profondeur, pos_courante + 2**profondeur, pos_courante, null_node) \n",
    "\n",
    "    mon_arbre = nx.Graph()\n",
    "    \n",
    "    if type(size) == int:\n",
    "        size = (size, size)    \n",
    "    plt.figure(figsize=size)\n",
    "    \n",
    "    nx.draw_networkx_nodes(mon_arbre, positions, nodelist=noeuds[0], node_color=\"white\", node_size=550, edgecolors=\"blue\")\n",
    "    nx.draw_networkx_edges(mon_arbre, positions, edgelist=branches[0], edge_color=\"black\", width=2)\n",
    "    nx.draw_networkx_labels(mon_arbre, positions, labels)\n",
    "\n",
    "    if null_node:\n",
    "        nx.draw_networkx_nodes(mon_arbre, positions, nodelist=noeuds[1], node_color=\"white\", node_size=50, edgecolors=\"grey\")\n",
    "        nx.draw_networkx_edges(mon_arbre, positions, edgelist=branches[1], edge_color=\"grey\", width=1)\n",
    "\n",
    "    ax = plt.gca()\n",
    "    ax.margins(0.1)\n",
    "    plt.axis(\"off\")\n",
    "    plt.show()\n",
    "    plt.close()"
   ]
  },
  {
   "cell_type": "code",
   "execution_count": null,
   "metadata": {},
   "outputs": [],
   "source": [
    "repr_graph(arbre1,(4,3),False)"
   ]
  },
  {
   "attachments": {},
   "cell_type": "markdown",
   "metadata": {},
   "source": [
    "<h3> Exercice 3 : </h3>\n",
    "\n",
    "Écrire les fonctions suivantes\n",
    "\n",
    "Tester ces fonctions avec l'arbre1 ci-dessus"
   ]
  },
  {
   "cell_type": "code",
   "execution_count": null,
   "metadata": {},
   "outputs": [],
   "source": [
    "def taille(arbre):\n",
    "    \"\"\"fonction qui prend en paramètre d'entrée un arbre et qui renvoie le nombre de ses noeuds\"\"\"\n",
    "    pass"
   ]
  },
  {
   "cell_type": "code",
   "execution_count": null,
   "metadata": {},
   "outputs": [],
   "source": [
    "def est_presente(arbre,etiquette):\n",
    "     \"\"\"fonction qui prend en paramètre d'entrée un arbre et une etiquette \n",
    "     et renvoie True si etiquette est dans l'arbre ou False sinon\"\"\"\n",
    "    pass"
   ]
  },
  {
   "cell_type": "code",
   "execution_count": null,
   "metadata": {},
   "outputs": [],
   "source": [
    "def nb_feuilles(arbre):\n",
    "    \"\"\"fonction qui prend en paramètre d'entrée un arbre et renvoie le nombre de ses feuilles\"\"\"\n",
    "    pass"
   ]
  },
  {
   "cell_type": "markdown",
   "metadata": {},
   "source": [
    "<h4> Définir l'arbre2 de la fiche de cours, l'afficher et tester les fonctions précédentes sur cet arbre </h4>"
   ]
  },
  {
   "cell_type": "code",
   "execution_count": null,
   "metadata": {},
   "outputs": [],
   "source": []
  },
  {
   "cell_type": "code",
   "execution_count": null,
   "metadata": {},
   "outputs": [],
   "source": []
  },
  {
   "attachments": {},
   "cell_type": "markdown",
   "metadata": {},
   "source": [
    "<h2> Les parcours d'arbre binaires <br>( partie à traiter après avoir vu les algorithmes de parcours dans un arbre )</h2> \n",
    "\n",
    "<h3> Exercice 4 </h3> \n",
    "\n",
    "En vous inspirant de ce qui a été vu en cours, écrire les fonctions qui réalisent les parcours en largeur et en profondeur (prefixe, infixe et postfixe) d'un arbre avec cette représentation."
   ]
  },
  {
   "cell_type": "code",
   "execution_count": null,
   "metadata": {},
   "outputs": [],
   "source": [
    "# parcours largeur\n",
    "# la classe File donnée\n",
    "class File:\n",
    "    ''' classe File\n",
    "    création d'une instance File avec une liste\n",
    "    '''\n",
    "    def __init__(self):\n",
    "        \"Initialisation d'une file vide\"\n",
    "        self.L=[]\n",
    "\n",
    "    def vide(self):\n",
    "        \"teste si la file est vide\"\n",
    "        return self.L==[]\n",
    "\n",
    "    def defiler(self):\n",
    "        \"défile\"\n",
    "        assert not self.vide(), \"file vide\"\n",
    "        return self.L.pop(0)\n",
    "\n",
    "    def enfiler(self,x):\n",
    "        self.L.append(x)\n",
    "        \n",
    "def parcours_largeur(arbre):\n",
    "    pass\n",
    "\n",
    "\n",
    "\n",
    "l=parcours_largeur(arbre1)\n",
    "print(parcours_largeur(arbre1))"
   ]
  },
  {
   "cell_type": "code",
   "execution_count": null,
   "metadata": {},
   "outputs": [],
   "source": [
    "#parcours profondeur\n",
    "\n",
    "# parcours prefixe\n",
    "\n",
    "\n",
    "def parcours_prefixe(arbre):\n",
    "    if arbre!=():\n",
    "        pass\n",
    "        \n",
    "parcours_prefixe(arbre1)"
   ]
  },
  {
   "cell_type": "code",
   "execution_count": null,
   "metadata": {},
   "outputs": [],
   "source": [
    "# parcours infixe\n",
    "\n",
    "def parcours_infixe(arbre) :\n",
    "    if(arbre != ()) :\n",
    "        pass\n",
    "\n",
    "parcours_infixe(arbre1)"
   ]
  },
  {
   "cell_type": "code",
   "execution_count": null,
   "metadata": {},
   "outputs": [],
   "source": [
    "# parcours suffixe ou Postfixe\n",
    "\n",
    "def parcours_postfixe(arbre) :\n",
    "    if(arbre != ()) :\n",
    "        pass\n",
    "\n",
    "parcours_postfixe(arbre1)"
   ]
  },
  {
   "cell_type": "code",
   "execution_count": null,
   "metadata": {},
   "outputs": [],
   "source": []
  }
 ],
 "metadata": {
  "kernelspec": {
   "display_name": "Python 3",
   "language": "python",
   "name": "python3"
  },
  "language_info": {
   "codemirror_mode": {
    "name": "ipython",
    "version": 3
   },
   "file_extension": ".py",
   "mimetype": "text/x-python",
   "name": "python",
   "nbconvert_exporter": "python",
   "pygments_lexer": "ipython3",
   "version": "3.9.13 (tags/v3.9.13:6de2ca5, May 17 2022, 16:36:42) [MSC v.1929 64 bit (AMD64)]"
  },
  "vscode": {
   "interpreter": {
    "hash": "970a2a4939579a4c22872227820a264ec023ee5692739211cbaca24386397975"
   }
  }
 },
 "nbformat": 4,
 "nbformat_minor": 2
}
