{
 "cells": [
  {
   "cell_type": "markdown",
   "metadata": {},
   "source": [
    "<h1> Parcours de Graphes </h1>"
   ]
  },
  {
   "cell_type": "markdown",
   "metadata": {},
   "source": [
    "<h4> Pour la suite , on utilisera la classe Graphe ci-dessous par listes d'adjacences </h4>"
   ]
  },
  {
   "cell_type": "code",
   "execution_count": null,
   "metadata": {},
   "outputs": [],
   "source": [
    "import networkx\n",
    "import matplotlib.pyplot as plt\n",
    "\n",
    "class Graphe:\n",
    "    def __init__(self):\n",
    "        self.adj={}\n",
    "        \n",
    "    def ajouter_sommet(self,s):\n",
    "        if s not in self.adj:\n",
    "            self.adj[s]=[]  # ici on met les sommets adjacents dans une liste\n",
    "            \n",
    "    def ajouter_arete(self, s1, s2):\n",
    "        self.ajouter_sommet(s1)\n",
    "        self.ajouter_sommet(s2)\n",
    "        if s2 not in self.adj[s1]:\n",
    "            self.adj[s1].append(s2)\n",
    "        if s1 not in self.adj[s2]:\n",
    "            self.adj[s2].append(s1)\n",
    "        \n",
    "    def est_arc(self,s1,s2):\n",
    "        return s2 in self.adj[s1]\n",
    "    \n",
    "    def sommets(self):\n",
    "        \"\"\"renvoie la liste des sommmets du graphe\"\"\"\n",
    "        return list(self.adj)\n",
    "    \n",
    "    def voisins(self,s):\n",
    "        \"\"\" renvoie la liste des voisins d'un sommet s\"\"\"\n",
    "        return self.adj[s]\n",
    "    \n",
    "    def __str__(self): \n",
    "        \"Affichage du graphe en utilisant le module networkx\"\n",
    "        G = networkx.Graph()\n",
    "        for s1 in self.sommets():\n",
    "            for s2 in self.voisins(s1):\n",
    "                G.add_edge(s1,s2)\n",
    "        networkx.draw(G, with_labels=True,node_color=\"skyblue\" )  \n",
    "        return \"\"\n",
    "      \n",
    "     "
   ]
  },
  {
   "cell_type": "code",
   "execution_count": null,
   "metadata": {},
   "outputs": [],
   "source": [
    "# construction du graphe g1:\n",
    "g1= Graphe()\n",
    "g1.ajouter_arete(\"a\",\"b\")\n",
    "g1.ajouter_arete(\"a\",\"c\")\n",
    "g1.ajouter_arete(\"b\",\"d\")\n",
    "g1.ajouter_arete(\"c\",\"d\")\n",
    "g1.ajouter_arete(\"b\",\"e\")\n",
    "g1.ajouter_arete(\"e\",\"f\")\n",
    "g1.ajouter_arete(\"f\",\"g\")\n",
    "g1.ajouter_arete(\"f\",\"c\")\n",
    "g1.ajouter_arete(\"d\",\"a\")\n",
    "g1.ajouter_arete(\"e\",\"d\")\n",
    "g1.ajouter_arete(\"g\",\"h\")\n",
    "g1.ajouter_arete(\"h\",\"b\")\n",
    "\n",
    "print(g1)\n",
    "print(g1.sommets())\n",
    "print(g1.voisins(\"b\"))"
   ]
  },
  {
   "cell_type": "markdown",
   "metadata": {},
   "source": [
    "<h3><li> parcours en largeur </li></h3>"
   ]
  },
  {
   "cell_type": "code",
   "execution_count": null,
   "metadata": {},
   "outputs": [],
   "source": [
    "def parcours_en_largeur(g,s_depart):\n",
    "    \"\"\" fonction qui retourne le parcours en largeur du graphe g à partir du sommet s_depart\n",
    "        entrée :  g type graphe et s_départ chaine de caractère\n",
    "        sortie : une liste de cahinae de caractère\n",
    "        précondition : s_depart est un sommet de g\"\"\"  \n",
    "    pass\n",
    "\n",
    "#tests\n",
    "print(g1)\n",
    "for s in g1.sommets():\n",
    "    print(\"à partir de \",s,\"->\",parcours_en_largeur(g1,s))\n"
   ]
  },
  {
   "cell_type": "markdown",
   "metadata": {},
   "source": [
    "<h3> <li> detection de cycles </li> </h3>\n",
    "<p> A quel moment dans un parcours sait-on que l'on a un cycle ? </p>"
   ]
  },
  {
   "cell_type": "code",
   "execution_count": null,
   "metadata": {},
   "outputs": [],
   "source": [
    "def detection_cycle(g,s_depart):\n",
    "    \"\"\" fonction qui detecte la presence d'un cycle dans un graphe g à partir d'un sommet s_depart\"\"\"\n",
    "    pass\n",
    "\n",
    "#tests\n",
    "detection_cycle(g1,\"c\")"
   ]
  },
  {
   "cell_type": "markdown",
   "metadata": {},
   "source": [
    "<h3> <li> parcours en profondeur </li></h3>"
   ]
  },
  {
   "cell_type": "code",
   "execution_count": null,
   "metadata": {},
   "outputs": [],
   "source": [
    "def parcours_en_profondeur(g,s_depart):\n",
    "    \"\"\" fonction qui retourne le parcours en profondeur du graphe g à partir du sommet s_depart\n",
    "        entrée :  g type graphe et s_départ chaine de caractère\n",
    "        sortie : une liste de chaine de caractère\n",
    "        précondition : s_depart est un sommet de g\"\"\"\n",
    "    pass\n",
    "\n",
    "#tests\n",
    "for sommet in g1.adj:\n",
    "    print(\"à partir de \",sommet,'->',parcours_en_profondeur(g1,sommet))\n",
    "print(g1)"
   ]
  },
  {
   "cell_type": "markdown",
   "metadata": {},
   "source": [
    "<h3> bonus 1 <br><li> Trouver un chemin entre deux sommets </li> </h3>\n",
    "L'idée est d'utiliser une pile qui contient un tuple ( sommet, [une liste] ), <br> ce tuple sera initialisé à (s_depart,[s_depart]) <br> puis ( successeur, [chemin pour arriver au successeur]) <br>\n",
    "et on s'arrete quand le successeur est s_arrivée.\n"
   ]
  },
  {
   "cell_type": "code",
   "execution_count": null,
   "metadata": {},
   "outputs": [],
   "source": [
    "def unchemin(g,s_depart,s_arrivee):\n",
    "    \"\"\" fonction qui retourne un chemin dans un graphe g entre deux sommets s_depart et s_arrivée.\n",
    "        le chemin sera donné dans une liste qui contiendra les sommets parcourus\"\"\"\n",
    "    pile=[(s_depart,[s_depart])]  \n",
    "    pass\n",
    "\n",
    "\n",
    "# tests\n",
    "unchemin(g1,\"f\",\"c\")"
   ]
  },
  {
   "cell_type": "markdown",
   "metadata": {},
   "source": [
    "<h3> bonus 2 <br> <li> Tous les chemins entre 2 sommets </li> </h3>"
   ]
  },
  {
   "cell_type": "code",
   "execution_count": null,
   "metadata": {},
   "outputs": [],
   "source": [
    "def touschemin(g,s_depart,s_arrivee):\n",
    "    \"\"\" fonction qui retourne tous les chemins entre deux sommets \"\"\" \n",
    "    pile=[(depart,[depart])]\n",
    "    TousChem=[] # liste qui contiendra tous les chemins\n",
    "    pass\n",
    "    \n",
    "\n",
    "\n",
    "\n",
    "\n",
    "#tests\n",
    "touschemin(g1,\"g\",\"f\")"
   ]
  },
  {
   "cell_type": "markdown",
   "metadata": {},
   "source": [
    "<h3> bonus 2 bis <br> <li> Tous les chemins entre 2 sommets </li> </h3>"
   ]
  },
  {
   "cell_type": "code",
   "execution_count": null,
   "metadata": {},
   "outputs": [],
   "source": [
    "def pluscourtchemin(g1,s_depart,s_arrivée):\n",
    "    \"\"\" retourne le plus court des chemins entre deux sommets\"\"\"\n",
    "    pass\n",
    "\n",
    "\n",
    "\n",
    "#tests\n",
    "pluscourtchemin(g1,\"g\",\"f\")"
   ]
  },
  {
   "cell_type": "markdown",
   "metadata": {},
   "source": [
    "<h3> bonus 3 <br> <li> Tous les cycles d'un graphe </li> </h3>"
   ]
  },
  {
   "cell_type": "code",
   "execution_count": null,
   "metadata": {},
   "outputs": [],
   "source": [
    "def touslescycles(g):\n",
    "    \"\"\" retourne une liste de tous les graphes d'un cycle\"\"\"  \n",
    "    TouslesCycles=[]\n",
    "    pass\n",
    "    \n",
    "#test    \n",
    "touslescycles(g1)"
   ]
  }
 ],
 "metadata": {
  "interpreter": {
   "hash": "cd8ac7ed5329ff1f59a8356dfddf06d159cf18414acbfd7b13d1d5cd1cbb5d7d"
  },
  "kernelspec": {
   "display_name": "Python 3.9.7 ('base')",
   "language": "python",
   "name": "python3"
  },
  "language_info": {
   "codemirror_mode": {
    "name": "ipython",
    "version": 3
   },
   "file_extension": ".py",
   "mimetype": "text/x-python",
   "name": "python",
   "nbconvert_exporter": "python",
   "pygments_lexer": "ipython3",
   "version": "3.9.7"
  },
  "orig_nbformat": 4
 },
 "nbformat": 4,
 "nbformat_minor": 2
}
