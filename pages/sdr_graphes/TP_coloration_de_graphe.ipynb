{
 "cells": [
  {
   "cell_type": "markdown",
   "metadata": {},
   "source": [
    "#  Application des graphes : coloration et problèmes d'optimisation."
   ]
  },
  {
   "cell_type": "markdown",
   "metadata": {},
   "source": [
    "Nous allons utilser la classe `Graphe` codée lors du TP précédent."
   ]
  },
  {
   "cell_type": "code",
   "execution_count": 5,
   "metadata": {},
   "outputs": [],
   "source": [
    "# Import de networkx pour l'affichage des graphes.\n",
    "import networkx\n",
    "import matplotlib.pyplot as plt"
   ]
  },
  {
   "cell_type": "code",
   "execution_count": 6,
   "metadata": {},
   "outputs": [],
   "source": [
    "class Graphe:\n",
    "    def __init__(self):\n",
    "        self.adj = {}\n",
    "        self.couleurs = {}\n",
    "        \n",
    "    def ajouter_sommet(self,s):\n",
    "        if s not in self.adj :\n",
    "            self.adj[s] = []\n",
    "            \n",
    "    def ajouter_arete(self, s1, s2):\n",
    "        self.ajouter_sommet(s1)\n",
    "        self.ajouter_sommet(s2)\n",
    "        if s2 not in self.adj[s1]:\n",
    "            self.adj[s1].append(s2)\n",
    "        if s1 not in self.adj[s2]:\n",
    "            self.adj[s2].append(s1)\n",
    "        \n",
    "    def arete(self,s1,s2):\n",
    "        return s2 in self.adj[s1]\n",
    "    \n",
    "    def sommets(self):\n",
    "        return list(self.adj.keys())\n",
    "    \n",
    "    def voisins(self,s):\n",
    "        return list(self.adj[s])\n",
    "    \n",
    "    def colorer(self,s,couleur):\n",
    "        \"\"\"méthode qui permet de colorer le sommet s avec la couleur couleur\"\"\"\n",
    "        self.couleurs[s] = couleur\n",
    "    \n",
    "    def __str__(self): \n",
    "        \"Affichage du graphe en utilisant le module networkx\"\n",
    "        G = networkx.Graph()\n",
    "        # sorted pour avoir la correspondance entre les couleurs choisies et celles affichées\n",
    "        \n",
    "        for s1 in (self.sommets()):\n",
    "            for s2 in self.voisins(s1):\n",
    "                G.add_edge(s1,s2)\n",
    "        print(self.couleurs)\n",
    "        if self.couleurs:\n",
    "            networkx.draw(G, with_labels=True,cmap=plt.get_cmap('tab10'), node_color=list(self.couleurs.values()))\n",
    "        else:\n",
    "            networkx.draw(G, with_labels=True, node_color=\"skyblue\" )  \n",
    "\n",
    "        return \"\""
   ]
  },
  {
   "cell_type": "code",
   "execution_count": 8,
   "metadata": {},
   "outputs": [
    {
     "name": "stdout",
     "output_type": "stream",
     "text": [
      "Sommets du graphe: ['A', 'B', 'C', 'D']\n",
      "Voisins de A: ['B', 'D', 'C']\n",
      "Voisins de B: ['A', 'C', 'D']\n"
     ]
    }
   ],
   "source": [
    "# Exemple Vérifiez le bon fonctionnement de la classe Graphe avec un exemple .\n",
    "\n",
    "gr = Graphe()\n",
    "\n",
    "gr.ajouter_arete(\"A\",\"B\")\n",
    "gr.ajouter_arete(\"B\",\"C\")\n",
    "gr.ajouter_arete(\"D\",\"B\")\n",
    "gr.ajouter_arete(\"A\",\"D\")\n",
    "gr.ajouter_arete(\"A\",\"C\")\n",
    "gr.ajouter_arete(\"C\",\"D\")\n",
    "\n",
    "\n",
    "print(\"Sommets du graphe:\",gr.sommets())\n",
    "print(\"Voisins de A:\",gr.voisins(\"A\"))\n",
    "print(\"Voisins de B:\",gr.voisins(\"B\"))"
   ]
  },
  {
   "attachments": {},
   "cell_type": "markdown",
   "metadata": {},
   "source": [
    "## Problème d'aquarium\n",
    "\n",
    "A, B, C, D, E, F, G et H désignent 8 espèces de poissons (Anguille, Barracuda, Carpe, Dorade, Espadon, Flétan , Guppy, Hippocampe et Ide)\n",
    "\n",
    "- A ne peut pas vivre avec B, C, D et E.\n",
    "- C ne peut pas cohabiter avec B\n",
    "- B est incompatible avec D et F\n",
    "- G se fait dévorer par E, H et F\n",
    "- H ne peut pas vivre avec E et F\n",
    "\n",
    "Nous allons chercher à répondre au problème suivant :\n",
    "#### Combien faut-il d'aquarium au minimum pour que les poissons cohabitent entre eux ?\n",
    "Pour cela nous allons utiliser la notion de coloration de graphe.\n"
   ]
  },
  {
   "cell_type": "markdown",
   "metadata": {},
   "source": [
    "<div class=\"alert alert-warning\" role=\"alert\">\n",
    "    \n",
    "## Exercice 1\n",
    "Mettre la situation sous forme de graphe dans lequel :\n",
    "- Chaque sommet est un des poissons.\n",
    "- Deux sommets sont reliés par une arête si et seulement si les poissons sont incompatibles.    \n",
    "\n",
    "Représenter le graphe précédent à l'aide de `Python` en utilisant la classe `Graphe` ci-dessus.\n",
    "</div>"
   ]
  },
  {
   "cell_type": "code",
   "execution_count": 4,
   "metadata": {},
   "outputs": [],
   "source": [
    "# Votre code ici\n",
    "\n",
    "\n",
    "\n",
    "# print(A)\n"
   ]
  },
  {
   "attachments": {},
   "cell_type": "markdown",
   "metadata": {},
   "source": [
    "<div class=\"alert alert-warning\" role=\"alert\">\n",
    "    \n",
    "## Exercice 2\n",
    "On dispose d'une couleur par aquarium, colorer les sommets du graphe de façon à ce que les poissons du même aquarium soient compatibles entre eux.  \n",
    "Essayez d'utiliser le moins de couleurs différentes.\n",
    "   \n",
    "\n",
    "\n",
    "Pour colorier un sommet, utilisez la méthode `colorer` comme dans l'exemple suivant : \n",
    "```\n",
    "g.colorer(\"A\",'red')\n",
    "g.colorer(\"B\",'DarkGreen')\n",
    "# Il  faut demander l'affichage du graphe pour obtenir les sommets colorés\n",
    "print(g)\n",
    "```\n",
    "    \n",
    " Vous pourrez des noms de couleurs que vous trouverez dans le site suivant : [https://html-color-codes.info/color-names/](https://html-color-codes.info/color-names/)\n",
    "\n",
    "    \n",
    "<details style =\"background-color: Silver;\">\n",
    "   <summary > Cliquez ici pour un indice  </summary>\n",
    "Par exemple, A et B ne peuvent pas être colorés de la même couleur car les poissons A et B sont incompatibles.<br> Par contre A et F peuvent être colorés avec la même couleur car les poissons A et F peuvent être mis dans le même aquarium.\n",
    "</details>\n",
    "</div>"
   ]
  },
  {
   "cell_type": "code",
   "execution_count": 2,
   "metadata": {},
   "outputs": [],
   "source": [
    "# Votre code ici\n",
    "\n",
    "\n",
    "\n"
   ]
  },
  {
   "cell_type": "markdown",
   "metadata": {},
   "source": [
    "<div class=\"alert alert-warning\" role=\"alert\">\n",
    "    \n",
    "## Exercice 3\n",
    "D'après vous, combien faut-il d'aquariums différents au minimum ?  \n",
    "**Votre réponse ici**  \n",
    "\n",
    "    \n",
    "Peux-t-on le faire avec moins de 3 aquariums, argumentez votre réponse .  \n",
    "**Votre réponse ici**  \n",
    "\n",
    "</div>"
   ]
  },
  {
   "attachments": {},
   "cell_type": "markdown",
   "metadata": {},
   "source": [
    "<div class=\"alert alert-warning\" role=\"alert\">\n",
    "    \n",
    "## Exercice 4\n",
    "Écrire, en langage naturel, un algorithme qui :\n",
    "- en entrée prend un graphe G et des couleurs 1,2,3,4... Les sommets de G sont numérotés de 1 à $n$ ($s_1$,$s_2$,. . .,$s_n$)\n",
    "- en sortie donne une coloration valide de ce graphe.\n",
    "\n",
    "Cet algorithme doit être basé sur le principe glouton\n",
    "\n",
    "\n",
    "\n",
    "**Votre réponse ici**\n",
    "\n",
    "    \n",
    "</div>"
   ]
  },
  {
   "cell_type": "code",
   "execution_count": null,
   "metadata": {},
   "outputs": [],
   "source": [
    "# Testez la cellule ci-dessous. Grâce à l'implémentation réalisée\n",
    "# il est possible de colorer un sommet grâce à un nombre.\n",
    "# Cela permettra de mettre en oeuvre l'algorithme de la question précédente.\n",
    "\n",
    "A.colorer(\"A\",1)\n",
    "A.colorer(\"B\",2)\n",
    "A.colorer(\"C\",3)\n",
    "A.colorer(\"D\",4)\n",
    "A.colorer(\"E\",5)\n",
    "A.colorer(\"F\",6)\n",
    "A.colorer(\"G\",7)\n",
    "A.colorer(\"H\",8)\n",
    "print(A)\n",
    "\n"
   ]
  },
  {
   "attachments": {},
   "cell_type": "markdown",
   "metadata": {},
   "source": [
    "<div class=\"alert alert-warning\" role=\"alert\">\n",
    "    \n",
    "## Exercice 5\n",
    "Complétez les 2 fonctions suivantes.\n",
    "    \n",
    "La première fonction prendra en paramètre une liste de voisins et un dictionnaire de couleurs.  \n",
    "Dans ce dictionnaire, les clés seront les sommets du graphe et les valeurs seront les couleurs.  \n",
    "Les couleurs seront représentées par des nombres entiers.  \n",
    "Cette fonction doit renvoyer la plus petite couleur non utilisée par les voisins\n",
    "    \n",
    "La seconde fonction prend en paramètre un graphe et doit renvoyer le coloriage de ce graphe.  \n",
    "Ce coloriage sera la donnée d'un dictionnaire associant les sommets à leurs couleurs\n",
    "    \n",
    "</div>"
   ]
  },
  {
   "cell_type": "code",
   "execution_count": null,
   "metadata": {},
   "outputs": [],
   "source": [
    "def ppcnu(voisins : list,couleurs : dict):\n",
    "    \"\"\"\n",
    "    retourne la plus petite couleur (nombre entier) non utilisée par les voisins\n",
    "    \"\"\"\n",
    "    n = len(voisins)\n",
    "    dispo = [True] * (n+1)\n",
    "    for v in voisins : \n",
    "        if v in couleurs and couleurs[v] <= n:\n",
    "            #Acompleter\n",
    "    for c in range(n+1):\n",
    "        if #Acompleter == True:\n",
    "            return c"
   ]
  },
  {
   "cell_type": "code",
   "execution_count": null,
   "metadata": {},
   "outputs": [],
   "source": [
    "# Tests de la fonction ppcnu\n",
    "couleurs = {\"A\":0 , \"B\":1, \"C\":1 , \"D\":2}\n",
    "\n",
    "assert ppcnu([\"A\",\"B\",\"C\",\"D\"],couleurs) == 3\n",
    "assert ppcnu([\"B\",\"C\",\"D\"],couleurs) == 0\n",
    "assert ppcnu([\"A\",\"D\"],couleurs) == 1"
   ]
  },
  {
   "cell_type": "code",
   "execution_count": null,
   "metadata": {},
   "outputs": [],
   "source": [
    "def coloriage(g):\n",
    "    \"Retourne le coloriage et le nombre de couleur nescessaire pour colorer un graphe\"\n",
    "    couleurs = {}\n",
    "    n = 0\n",
    "    for s in g.sommets():\n",
    "        #Acompleter\n",
    "        n = max(n,c+1)\n",
    "    return couleurs,n"
   ]
  },
  {
   "cell_type": "code",
   "execution_count": null,
   "metadata": {},
   "outputs": [],
   "source": [
    "# Test de la fonction coloriage\n",
    "couleurs , n = coloriage(g)\n",
    "print(couleurs , n)"
   ]
  },
  {
   "cell_type": "code",
   "execution_count": null,
   "metadata": {},
   "outputs": [],
   "source": [
    "# Application de la coloration sur le graphe\n",
    "for s in A.sommets():\n",
    "    A.colorer(s,couleurs[s])\n",
    "    \n",
    "print(A)"
   ]
  }
 ],
 "metadata": {
  "kernelspec": {
   "display_name": "Python 3",
   "language": "python",
   "name": "python3"
  },
  "language_info": {
   "codemirror_mode": {
    "name": "ipython",
    "version": 3
   },
   "file_extension": ".py",
   "mimetype": "text/x-python",
   "name": "python",
   "nbconvert_exporter": "python",
   "pygments_lexer": "ipython3",
   "version": "3.9.13"
  }
 },
 "nbformat": 4,
 "nbformat_minor": 4
}
