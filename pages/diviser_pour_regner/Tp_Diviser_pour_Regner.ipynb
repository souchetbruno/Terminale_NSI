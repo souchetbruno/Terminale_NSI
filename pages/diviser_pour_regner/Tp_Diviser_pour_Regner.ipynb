{
 "cells": [
  {
   "cell_type": "markdown",
   "metadata": {},
   "source": [
    "<h1> Diviser pour regner </h1>"
   ]
  },
  {
   "attachments": {},
   "cell_type": "markdown",
   "metadata": {},
   "source": [
    "<h2> 1. Exemple de la recherche du maximum dans une liste </h2>\n",
    "<p> Ecrire les 2 fonctions en itératif et recursive selon le principe du diviser pour regner</p>"
   ]
  },
  {
   "cell_type": "code",
   "execution_count": null,
   "metadata": {},
   "outputs": [],
   "source": [
    "def maximum_it(L):\n",
    "    pass\n",
    "    \n",
    "    \n",
    "\n",
    "def maximum_rec(L):\n",
    "    pass\n"
   ]
  },
  {
   "attachments": {},
   "cell_type": "markdown",
   "metadata": {},
   "source": [
    "<h2> 2. Exemple de la recherche d'un élément dans une liste non trié </h2>\n",
    "<p> Ecrire les 2 fonctions en itératif et recursive selon le principe du diviser pour regner</p>"
   ]
  },
  {
   "cell_type": "code",
   "execution_count": 1,
   "metadata": {},
   "outputs": [],
   "source": [
    "def recherche_it(x,L):\n",
    "    pass\n",
    "\n",
    "\n",
    "\n",
    "def recherche_rec(x,L):\n",
    "    pass\n",
    "\n"
   ]
  },
  {
   "attachments": {},
   "cell_type": "markdown",
   "metadata": {},
   "source": [
    "<h2> 3. tri Fusion </h2>"
   ]
  },
  {
   "attachments": {},
   "cell_type": "markdown",
   "metadata": {},
   "source": [
    "<h3> A) Commençons par écrire la fonction qui fusionnent 2 listes triées en une seule </h3>"
   ]
  },
  {
   "cell_type": "code",
   "execution_count": null,
   "metadata": {},
   "outputs": [],
   "source": [
    "def fusion_rec (L1,L2):  # en recursif\n",
    "    pass\n",
    " \n",
    "def fusion_it(L1,L2): # en iteratif \n",
    "    \"\"\" fonction recursive qui retourne la liste triée des fusions de L1 et L2 deux listes triées\"\"\"\n",
    "    pass\n",
    "    \n",
    "\n",
    "\n"
   ]
  },
  {
   "attachments": {},
   "cell_type": "markdown",
   "metadata": {},
   "source": [
    "<h3> B) En déduire l'écriture de la fonction récursive Tri_fusion selon le principe du Diviser pour Regner </h3>"
   ]
  },
  {
   "cell_type": "code",
   "execution_count": null,
   "metadata": {},
   "outputs": [],
   "source": [
    "def Tri_fusion(L):\n",
    "    pass"
   ]
  }
 ],
 "metadata": {
  "kernelspec": {
   "display_name": "Python 3",
   "language": "python",
   "name": "python3"
  },
  "language_info": {
   "codemirror_mode": {
    "name": "ipython",
    "version": 3
   },
   "file_extension": ".py",
   "mimetype": "text/x-python",
   "name": "python",
   "nbconvert_exporter": "python",
   "pygments_lexer": "ipython3",
   "version": "3.9.13 (tags/v3.9.13:6de2ca5, May 17 2022, 16:36:42) [MSC v.1929 64 bit (AMD64)]"
  },
  "orig_nbformat": 4,
  "vscode": {
   "interpreter": {
    "hash": "970a2a4939579a4c22872227820a264ec023ee5692739211cbaca24386397975"
   }
  }
 },
 "nbformat": 4,
 "nbformat_minor": 2
}
